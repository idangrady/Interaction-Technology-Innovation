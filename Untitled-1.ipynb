{
 "cells": [
  {
   "cell_type": "code",
   "execution_count": 1,
   "metadata": {},
   "outputs": [],
   "source": [
    "# TensorFlow and tf.keras\n",
    "import tensorflow as tf\n",
    "from tensorflow import keras\n",
    "# Helper libraries\n",
    "import numpy as np\n",
    "import matplotlib.pyplot as plt\n",
    "from functools import partial\n",
    "from tensorflow.keras import datasets\n",
    "from tensorflow.keras import datasets, layers, models\n",
    "\n",
    "\n",
    "\n",
    "from sklearn.decomposition import PCA\n",
    "from sklearn.model_selection import GridSearchCV\n",
    "from sklearn.metrics import confusion_matrix\n",
    "import pandas as pd\n",
    "from sklearn.metrics import accuracy_score\n",
    "import matplotlib.pyplot as plt\n",
    "from sklearn.model_selection import KFold\n",
    "import math\n",
    "from sklearn.preprocessing import normalize \n"
   ]
  },
  {
   "cell_type": "code",
   "execution_count": 2,
   "metadata": {},
   "outputs": [],
   "source": [
    "\n",
    "def print_metrics(title, test_y, y_pred):\n",
    "    matrix = confusion_matrix(test_y, y_pred)\n",
    "\n",
    "    print(\"---------------\")\n",
    "    print(\"Results from: \" + str(title))\n",
    "    print(\"- Confusion Matrix:\\n \" + str(matrix))\n",
    "    print(\"---------------\")\n",
    "\n",
    "\n",
    "def plot_history(history_, title):\n",
    "    pd.DataFrame(history_.history).plot(figsize=(8, 5))\n",
    "    plt.grid(True)\n",
    "    plt.title(title)\n",
    "    plt.gca().set_ylim(0, 1)\n",
    "    plt.show()\n",
    "\n",
    "def plot_var_ratio(pca_):\n",
    "    cumsum = np.cumsum(pca_.explained_variance_ratio_)\n",
    "    v = [cumsum[196] for i in range(196)]\n",
    "    plt.figure(figsize=(10, 7))\n",
    "    plt.plot(cumsum)\n",
    "    plt.plot(range(len(v)), v, ls='--', color='r')\n",
    "    plt.axvline(x=196, ymin=0, ymax=0.927, ls='--', color='r')\n",
    "    plt.yticks(ticks=[0, 0.2, 0.4, 0.6, 0.8, cumsum[196], 1.0],\n",
    "               labels=[0, 0.2, 0.4, 0.6, 0.8, round(cumsum[196], 2), 1.0])\n",
    "    plt.ylabel('Percentage of the variance')\n",
    "    plt.xlabel('Dimensions')\n",
    "    plt.title('Percentage of the variance per dimension')\n",
    "    plt.grid()\n",
    "    plt.show()\n",
    "\n",
    "\n",
    "def conv_to_matrix(images):\n",
    "    mtx = np.zeros((images.shape[0], int(14), int(14)), dtype=float)\n",
    "    img_mat = np.zeros((14, 14), dtype=float)\n",
    "\n",
    "    for idx, image in enumerate(images):\n",
    "        pix = 0\n",
    "        for x in range(14):\n",
    "            for y in range(14):\n",
    "                img_mat[x][y] = image[pix]\n",
    "                pix += 1\n",
    "        mtx[idx] = img_mat\n",
    "    print(mtx.shape)\n",
    "    return mtx\n",
    "\n",
    "\n",
    "def piecewise_constant_fn(epoch):\n",
    "    if epoch < 5:\n",
    "        return 0.01\n",
    "    elif epoch < 10:\n",
    "        return 0.005\n",
    "    else:\n",
    "        return 0.001\n",
    "\n",
    "\n",
    "\n",
    "def preprocessing(expend):\n",
    "    (x_train, y_train), (x_test, y_test) = datasets.fashion_mnist.load_data() #tf.keras.datasets.mnist.load_data(path=\"mnist.npz\") # \n",
    "\n",
    "\n",
    "    if(x_train.max()>1):\n",
    "        x_train =x_train/255  \n",
    "        x_test = x_test/255 \n",
    "        \n",
    "    # Make categorical for loss\n",
    "    \n",
    "    if expend:        \n",
    "        x_train = x_train.reshape(-1, 784)\n",
    "        x_test = x_test.reshape(-1,784)\n",
    "        y_train = tf.keras.utils.to_categorical(y_train)\n",
    "        y_test = tf.keras.utils.to_categorical(y_test)\n",
    "\n",
    "    else:\n",
    "    # reshape for 3 dim\n",
    "        x_train = x_train.reshape(-1, 28,28,1)\n",
    "        x_test = x_test.reshape(-1,28,28,1)\n",
    "\n",
    "    \n",
    "    return (x_train, y_train, x_test, y_test)\n",
    "\n",
    "\n",
    "def PCA_(n_componentsGiven,x_train,x_test):\n",
    "    \n",
    "    pca = PCA(n_components=n_componentsGiven)\n",
    "    # x_train= normalize(x_train)\n",
    "    # x_test= normalize(x_test)\n",
    "\n",
    "    train_img_reduced = pca.fit_transform(x_train)\n",
    "    sqrDim = int(math.sqrt(int(train_img_reduced.shape[1]))) \n",
    "    \n",
    "    train_img_reduced.reshape(-1,sqrDim,sqrDim)\n",
    "\n",
    "    \n",
    "    pca_test = PCA(n_components=n_componentsGiven)\n",
    "    test_img_reduced = pca_test.fit_transform(x_test)\n",
    "    test_img_reduced.reshape(-1,sqrDim,sqrDim)\n",
    "    \n",
    "    return (train_img_reduced, test_img_reduced)\n",
    "\n",
    "\n",
    "def splitValTest(x,y,X,Y, percentage):\n",
    "    \n",
    "# =============================================================================\n",
    "#     x = np.random.shuffle(x)\n",
    "#     print(x[:5])\n",
    "#     y = np.random.shuffle(y)\n",
    "#     print(y[:5])\n",
    "# \n",
    "#     X = np.random.shuffle(X)\n",
    "#     Y =np.random.shuffle(Y)\n",
    "# =============================================================================\n",
    "    \n",
    "    \n",
    "    \n",
    "    trainAmount = int (y.shape[0] * percentage)\n",
    "    testAmount = int(Y.shape[0]  * percentage)\n",
    "    \n",
    "    X_valid, X_train = x[:trainAmount] ,x[trainAmount:]\n",
    "    y_valid, y_train = y[:trainAmount], y[trainAmount:]\n",
    "    \n",
    "    return ( X_train , y_train, X, Y , X_valid, y_valid)\n",
    "\n"
   ]
  },
  {
   "cell_type": "code",
   "execution_count": 3,
   "metadata": {},
   "outputs": [
    {
     "name": "stdout",
     "output_type": "stream",
     "text": [
      "(10000, 28, 28, 1)\n",
      "x_train.shape: (54000, 28, 28, 1)\n",
      "y_train.shape: (54000,)\n",
      "x_test.shape: (10000, 28, 28, 1)\n",
      "y_test.shape: (10000,)\n",
      "X_valid: (6000, 28, 28, 1)\n",
      "y_valid: (6000,)\n"
     ]
    }
   ],
   "source": [
    "\n",
    "fashion_mnist = tf.keras.datasets.fashion_mnist\n",
    "\n",
    "# =============================================================================\n",
    "#     (train_images, train_labels), (test_images, test_labels) = fashion_mnist.load_data()\n",
    "# =============================================================================\n",
    "\n",
    "n_comp = 784\n",
    "\n",
    "(train_images, train_labels, test_images, test_labels) = preprocessing(False)\n",
    "\n",
    "# (xTrainReduce, XTestReduce) = PCA_(n_comp, train_images, test_images)\n",
    "\n",
    "(train_images, train_labels, test_images, test_labels, X_valid, y_valid) = splitValTest(train_images, train_labels, test_images, test_labels,0.1)\n",
    "print(test_images.shape)\n",
    "\n",
    "\n",
    "print(f\"x_train.shape: {train_images.shape}\")\n",
    "print(f\"y_train.shape: {train_labels.shape}\")\n",
    "print(f\"x_test.shape: {test_images.shape}\")\n",
    "print(f\"y_test.shape: {test_labels.shape}\")\n",
    "print(f\"X_valid: {X_valid.shape}\")\n",
    "print(f\"y_valid: {y_valid.shape}\")\n",
    "\n",
    "\n",
    "input_shape = train_images.shape[1], train_images.shape[2], 1\n",
    "\n",
    "\n",
    "class_names = ['T-shirt/top', 'Trouser', 'Pullover', 'Dress', 'Coat', 'Sandal', 'Shirt', 'Sneaker', 'Bag', 'Ankle boot']\n",
    "\n",
    "learning_rate = 0.01"
   ]
  },
  {
   "cell_type": "code",
   "execution_count": 5,
   "metadata": {},
   "outputs": [
    {
     "name": "stdout",
     "output_type": "stream",
     "text": [
      "Epoch 1/10\n"
     ]
    },
    {
     "name": "stderr",
     "output_type": "stream",
     "text": [
      "D:\\Anaconda_2\\envs\\tf2.4\\lib\\site-packages\\tensorflow\\python\\util\\dispatch.py:1082: UserWarning: \"`sparse_categorical_crossentropy` received `from_logits=True`, but the `output` argument was produced by a sigmoid or softmax activation and thus does not represent logits. Was this intended?\"\n",
      "  return dispatch_target(*args, **kwargs)\n"
     ]
    },
    {
     "name": "stdout",
     "output_type": "stream",
     "text": [
      "1688/1688 [==============================] - 18s 7ms/step - loss: 0.5390 - accuracy: 0.7935 - val_loss: 0.3710 - val_accuracy: 0.8547\n",
      "Epoch 2/10\n",
      "1688/1688 [==============================] - 11s 6ms/step - loss: 0.3860 - accuracy: 0.8544 - val_loss: 0.3470 - val_accuracy: 0.8677\n",
      "Epoch 3/10\n",
      "1688/1688 [==============================] - 11s 6ms/step - loss: 0.3567 - accuracy: 0.8667 - val_loss: 0.3171 - val_accuracy: 0.8840\n",
      "Epoch 4/10\n",
      "1688/1688 [==============================] - 11s 6ms/step - loss: 0.3359 - accuracy: 0.8760 - val_loss: 0.3499 - val_accuracy: 0.8700\n",
      "Epoch 5/10\n",
      "1688/1688 [==============================] - 11s 7ms/step - loss: 0.3221 - accuracy: 0.8826 - val_loss: 0.3180 - val_accuracy: 0.8813\n",
      "Epoch 6/10\n",
      "1688/1688 [==============================] - 11s 6ms/step - loss: 0.3158 - accuracy: 0.8840 - val_loss: 0.3459 - val_accuracy: 0.8760\n",
      "Epoch 7/10\n",
      "1688/1688 [==============================] - 11s 6ms/step - loss: 0.3084 - accuracy: 0.8871 - val_loss: 0.3447 - val_accuracy: 0.8807\n",
      "Epoch 8/10\n",
      "1688/1688 [==============================] - 11s 6ms/step - loss: 0.3038 - accuracy: 0.8898 - val_loss: 0.3309 - val_accuracy: 0.8817\n",
      "Epoch 9/10\n",
      "1688/1688 [==============================] - 12s 7ms/step - loss: 0.3040 - accuracy: 0.8897 - val_loss: 0.3247 - val_accuracy: 0.8838\n",
      "Epoch 10/10\n",
      "1688/1688 [==============================] - 11s 7ms/step - loss: 0.2902 - accuracy: 0.8951 - val_loss: 0.3676 - val_accuracy: 0.8670\n"
     ]
    },
    {
     "data": {
      "image/png": "[encoded data removed]",
      "text/plain": [
       "<Figure size 576x360 with 1 Axes>"
      ]
     },
     "metadata": {
      "needs_background": "light"
     },
     "output_type": "display_data"
    },
    {
     "name": "stdout",
     "output_type": "stream",
     "text": [
      "313/313 - 1s - loss: 0.4132 - accuracy: 0.8539 - 1s/epoch - 3ms/step\n",
      "\n",
      "baseline accuracy, loss: 0.8539000153541565 0.4132322669029236\n",
      "---------------\n",
      "Results from: Baseline model\n",
      "- Confusion Matrix:\n",
      " [[725   6  19  25   5   2 212   0   6   0]\n",
      " [  1 974   1  17   3   0   4   0   0   0]\n",
      " [ 11   0 612  10 161   0 205   0   1   0]\n",
      " [ 18   6   6 865  67   1  34   0   3   0]\n",
      " [  1   2  31  16 798   0 150   0   2   0]\n",
      " [  1   0   0   0   0 968   0  10   2  19]\n",
      " [ 97   1  45  25  63   0 765   0   4   0]\n",
      " [  0   0   0   0   0  24   0 945   1  30]\n",
      " [  1   1   2   0   3  14  62   2 915   0]\n",
      " [  0   0   0   0   0   4   1  23   0 972]]\n",
      "---------------\n"
     ]
    }
   ],
   "source": [
    "\n",
    "# DefaultConv2D = partial(keras.layers.Conv2D, kernel_size=3, activation='relu', padding=\"VALID\")\n",
    "\n",
    "'''Baseline model'''\n",
    "DefaultConv2D = partial(keras.layers.Conv2D, kernel_size=3, activation='relu', padding=\"VALID\")\n",
    "\n",
    "baseline = keras.models.Sequential()\n",
    "baseline.add(DefaultConv2D(filters=16, kernel_size=3, input_shape=input_shape))\n",
    "baseline.add(keras.layers.AveragePooling2D(pool_size=2))\n",
    "baseline.add(DefaultConv2D(filters=32))\n",
    "baseline.add(keras.layers.AveragePooling2D(pool_size=2))\n",
    "baseline.add(keras.layers.Flatten())\n",
    "baseline.add(keras.layers.Dense(300, activation=\"relu\"))\n",
    "baseline.add(keras.layers.Dense(100, activation=\"relu\"))\n",
    "baseline.add(keras.layers.Dense(10, activation=\"softmax\"))\n",
    "\n",
    "optimizer = keras.optimizers.Adam(learning_rate)\n",
    "\n",
    "baseline.compile(optimizer=optimizer, loss=tf.keras.losses.SparseCategoricalCrossentropy(from_logits=True), metrics=['accuracy'])\n",
    "\n",
    "#lr_scheduler = keras.callbacks.ReduceLROnPlateau(monitor='val_loss', factor=0.005, patience=2, min_lr=0.000001, verbose=1)\n",
    "\n",
    "lr_scheduler = keras.callbacks.LearningRateScheduler(piecewise_constant_fn)\n",
    "\n",
    "history = baseline.fit(train_images, train_labels, epochs=10, batch_size=32, validation_data=(X_valid, y_valid)) #, callbacks=[lr_scheduler]\n",
    "\n",
    "plot_history(history, 'Baseline model')\n",
    "\n",
    "#reg_baseline = keras.wrappers.scikit_learn.KerasRegressor(baseline)\n",
    "\n",
    "test_loss, test_acc = baseline.evaluate(test_images, test_labels, verbose=2)\n",
    "\n",
    "print('\\nbaseline accuracy, loss:', test_acc, test_loss)\n",
    "\n",
    "pred = baseline.predict(test_images)\n",
    "\n",
    "pred_arr = [np.argmax(i) for i in pred]\n",
    "\n",
    "print_metrics(\"Baseline model\", test_labels, pred_arr)"
   ]
  },
  {
   "cell_type": "code",
   "execution_count": 182,
   "metadata": {},
   "outputs": [],
   "source": [
    "def augment(train_images, test_images,y,Y, percentage):\n",
    "\n",
    "    num_Train = train_images.shape[0]\n",
    "    num_Test = test_images.shape[0]\n",
    "    \n",
    "    assert(num_Train>= num_Test)\n",
    "\n",
    "    datagen = tf.keras.preprocessing.image.ImageDataGenerator(rotation_range=30, fill_mode='nearest')\n",
    "    datagen2 = tf.keras.preprocessing.image.ImageDataGenerator(width_shift_range=[-200,200])\n",
    "    datagen3 = tf.keras.preprocessing.image.ImageDataGenerator(horizontal_flip=True)\n",
    "\n",
    "    aug_train_rotate = datagen.flow(train_images, batch_size=1)\n",
    "    aug_train_ = datagen.flow(train_images, batch_size=1)\n",
    "    aug_train_flip = datagen.flow(train_images, batch_size=1)\n",
    "\n",
    "    aug_test_rotate = datagen.flow(test_images, batch_size=1)\n",
    "    aug_test_ = datagen.flow(test_images, batch_size=1)\n",
    "    aug_test_flip = datagen.flow(test_images, batch_size=1)\n",
    "\n",
    "\n",
    "    xAugRotate = np.empty((train_images.shape[1],train_images.shape[2]) )\n",
    "    xAugwShift = np.empty((train_images.shape[1],train_images.shape[2]) )\n",
    "    xAugwFlip = np.empty((train_images.shape[1],train_images.shape[2]) )\n",
    "\n",
    "    XAugRotate = np.empty((test_images.shape[1],test_images.shape[2]) )\n",
    "    XAugwShift = np.empty((test_images.shape[1],test_images.shape[2]) )\n",
    "    XAugwFlip = np.empty((test_images.shape[1],test_images.shape[2]) )\n",
    "\n",
    "\n",
    "    for i in range(int(num_Train*percentage)):\n",
    "        if(i ==0):\n",
    "            xAugRotate = aug_train_rotate[i]\n",
    "            xAugwShift = aug_train_[i]\n",
    "            XAugRotate= aug_test_rotate[i]\n",
    "            XAugwShift= aug_test_[i]\n",
    "            xAugwFlip=aug_train_flip[i]\n",
    "            XAugwFlip=aug_test_flip[i]\n",
    "\n",
    "        else:\n",
    "            if(i<int(num_Test*percentage)):\n",
    "                XAugRotate= np.concatenate((XAugRotate, aug_test_rotate[i]), axis = 0)\n",
    "                XAugwShift= np.concatenate((XAugwShift, aug_test_[i]), axis = 0)\n",
    "                XAugwFlip= np.concatenate((XAugwFlip, aug_test_flip[i]), axis = 0)\n",
    "\n",
    "            xAugRotate= np.concatenate((xAugRotate, aug_train_rotate[i]), axis = 0)\n",
    "            xAugwShift= np.concatenate((xAugwShift, aug_train_[i]), axis = 0)\n",
    "            xAugwFlip= np.concatenate((xAugwFlip, aug_train_flip[i]), axis = 0)\n",
    "\n",
    "\n",
    "    return (xAugRotate, xAugwShift, xAugwFlip ,XAugRotate ,XAugwShift,XAugwFlip)\n",
    "\n",
    "\n",
    "(xAugRotate, xAugwShift, xAugwFlip ,XAugRotate ,XAugwShift,XAugwFlip) =augment(train_images, test_images, percentage = 0.33)"
   ]
  },
  {
   "cell_type": "code",
   "execution_count": 183,
   "metadata": {},
   "outputs": [
    {
     "data": {
      "text/plain": [
       "(17820, 28, 28, 1)"
      ]
     },
     "execution_count": 183,
     "metadata": {},
     "output_type": "execute_result"
    }
   ],
   "source": [
    "xAugRotate.shape"
   ]
  },
  {
   "cell_type": "code",
   "execution_count": 38,
   "metadata": {},
   "outputs": [],
   "source": [
    "epochs = 10\n",
    "datagen = tf.keras.preprocessing.image.ImageDataGenerator(\n",
    "    rotation_range=20,\n",
    "    width_shift_range=0.2,\n",
    "    height_shift_range=0.2)\n",
    "# compute quantities required for featurewise normalization\n",
    "# (std, mean, and principal components if ZCA whitening is applied)\n",
    "datagen.fit(train_images)\n",
    "# fits the model on batches with real-time data augmentation:\n",
    "# model.fit(datagen.flow(train_images, train_labels, batch_size=32,\n",
    "#          subset='training'),\n",
    "#          validation_data=datagen.flow(train_images, train_labels,\n",
    "#          batch_size=8, subset='validation'),\n",
    "#          steps_per_epoch=len(train_images) / 32, epochs=epochs)\n"
   ]
  },
  {
   "cell_type": "code",
   "execution_count": 11,
   "metadata": {},
   "outputs": [],
   "source": [
    "from sklearn.model_selection import StratifiedKFold\n",
    "seed = 7"
   ]
  },
  {
   "cell_type": "code",
   "execution_count": null,
   "metadata": {},
   "outputs": [],
   "source": []
  },
  {
   "cell_type": "code",
   "execution_count": 12,
   "metadata": {},
   "outputs": [
    {
     "name": "stdout",
     "output_type": "stream",
     "text": [
      "(64000, 28, 28, 1)\n",
      "Yshape:(64000,)\n"
     ]
    }
   ],
   "source": [
    "X = np.concatenate((train_images, test_images), axis = 0)\n",
    "print(X.shape)\n",
    "Y = np.concatenate((train_labels, test_labels), axis = 0)\n",
    "print(f\"Yshape:{Y.shape}\")"
   ]
  },
  {
   "cell_type": "code",
   "execution_count": 17,
   "metadata": {},
   "outputs": [
    {
     "data": {
      "text/plain": [
       "[89.10937309265137,\n",
       " 89.89062309265137,\n",
       " 89.67187404632568,\n",
       " 89.90625143051147,\n",
       " 89.54687714576721,\n",
       " 89.7656261920929,\n",
       " 89.78124856948853,\n",
       " 88.95312547683716,\n",
       " 90.35937786102295,\n",
       " 89.87500071525574]"
      ]
     },
     "execution_count": 17,
     "metadata": {},
     "output_type": "execute_result"
    }
   ],
   "source": []
  },
  {
   "cell_type": "code",
   "execution_count": null,
   "metadata": {},
   "outputs": [],
   "source": [
    "from sklearn.model_selection import StratifiedKFold\n",
    "seed = 7\n",
    "\n",
    "X = np.concatenate((train_images, test_images), axis = 0)\n",
    "print(X.shape)\n",
    "Y = np.concatenate((train_labels, test_labels), axis = 0)\n",
    "print(f\"Yshape:{Y.shape}\")\n",
    "\n",
    "kfold = StratifiedKFold(n_splits=10, shuffle=True, random_state=seed)\n",
    "cvscores = []\n",
    "for train, test in kfold.split(X, Y):\n",
    "\t\t\n",
    "\t'''Variant 3 - Zero Padding'''\n",
    "\n",
    "\tDefaultConv2D_Padding = partial(keras.layers.Conv2D, kernel_size=3, activation='relu', padding=\"SAME\")\n",
    "\n",
    "\tvariant_3 = keras.models.Sequential()\n",
    "\tvariant_3.add(DefaultConv2D_Padding(filters=16, kernel_size=3, input_shape=input_shape))\n",
    "\tvariant_3.add(keras.layers.AveragePooling2D(pool_size=2))\n",
    "\tvariant_3.add(DefaultConv2D_Padding(filters=32))\n",
    "\tvariant_3.add(keras.layers.AveragePooling2D(pool_size=2))\n",
    "\tvariant_3.add(keras.layers.Flatten())\n",
    "\tvariant_3.add(keras.layers.Dense(300, activation=\"relu\"))\n",
    "\tvariant_3.add(keras.layers.Dense(100, activation=\"relu\"))\n",
    "\tvariant_3.add(keras.layers.Dense(10, activation=\"softmax\"))\n",
    "\n",
    "\toptimizer = keras.optimizers.Adam(learning_rate)\n",
    "\n",
    "\tvariant_3.compile(optimizer=optimizer, loss=tf.keras.losses.SparseCategoricalCrossentropy(from_logits=True), metrics=['accuracy'])\n",
    "\thistory = variant_3.fit(X[train], Y[train], epochs=10, batch_size=32) #, callbacks=[lr_scheduler]\n",
    "\n",
    "\tplot_history(history, 'Variant 3 - Zero Padding')\n",
    "\n",
    "\tscores = variant_3.evaluate(X[test], Y[test], verbose=2)\n",
    "\n",
    "\tprint(\"%s: %.2f%%\" % (variant_3.metrics_names[1], scores[1]*100))\n",
    "\tcvscores.append(scores[1] * 100)\n",
    "print(\"%.2f%% (+/- %.2f%%)\" % (np.mean(cvscores), np.std(cvscores)))\n"
   ]
  },
  {
   "cell_type": "code",
   "execution_count": 16,
   "metadata": {},
   "outputs": [
    {
     "name": "stdout",
     "output_type": "stream",
     "text": [
      "Epoch 1/10\n"
     ]
    },
    {
     "name": "stderr",
     "output_type": "stream",
     "text": [
      "D:\\Anaconda_2\\envs\\tf2.4\\lib\\site-packages\\tensorflow\\python\\util\\dispatch.py:1082: UserWarning: \"`sparse_categorical_crossentropy` received `from_logits=True`, but the `output` argument was produced by a sigmoid or softmax activation and thus does not represent logits. Was this intended?\"\n",
      "  return dispatch_target(*args, **kwargs)\n"
     ]
    },
    {
     "name": "stdout",
     "output_type": "stream",
     "text": [
      "1800/1800 [==============================] - 11s 6ms/step - loss: 0.4505 - accuracy: 0.8347\n",
      "Epoch 2/10\n",
      "1800/1800 [==============================] - 10s 6ms/step - loss: 0.3341 - accuracy: 0.8774\n",
      "Epoch 3/10\n",
      "1800/1800 [==============================] - 10s 6ms/step - loss: 0.3063 - accuracy: 0.8868\n",
      "Epoch 4/10\n",
      "1800/1800 [==============================] - 10s 6ms/step - loss: 0.2834 - accuracy: 0.8955\n",
      "Epoch 5/10\n",
      "1800/1800 [==============================] - 10s 6ms/step - loss: 0.2649 - accuracy: 0.9023\n",
      "Epoch 6/10\n",
      "1800/1800 [==============================] - 11s 6ms/step - loss: 0.2592 - accuracy: 0.9059\n",
      "Epoch 7/10\n",
      "1800/1800 [==============================] - 11s 6ms/step - loss: 0.2526 - accuracy: 0.9088\n",
      "Epoch 8/10\n",
      "1800/1800 [==============================] - 11s 6ms/step - loss: 0.2367 - accuracy: 0.9161\n",
      "Epoch 9/10\n",
      "1800/1800 [==============================] - 11s 6ms/step - loss: 0.2298 - accuracy: 0.9165\n",
      "Epoch 10/10\n",
      "1800/1800 [==============================] - 10s 6ms/step - loss: 0.2280 - accuracy: 0.9182\n"
     ]
    },
    {
     "data": {
      "image/png": "[encoded data removed]",
      "text/plain": [
       "<Figure size 576x360 with 1 Axes>"
      ]
     },
     "metadata": {
      "needs_background": "light"
     },
     "output_type": "display_data"
    },
    {
     "name": "stderr",
     "output_type": "stream",
     "text": [
      "D:\\Anaconda_2\\envs\\tf2.4\\lib\\site-packages\\tensorflow\\python\\util\\dispatch.py:1082: UserWarning: \"`sparse_categorical_crossentropy` received `from_logits=True`, but the `output` argument was produced by a sigmoid or softmax activation and thus does not represent logits. Was this intended?\"\n",
      "  return dispatch_target(*args, **kwargs)\n"
     ]
    },
    {
     "name": "stdout",
     "output_type": "stream",
     "text": [
      "200/200 - 1s - loss: 0.3589 - accuracy: 0.8911 - 719ms/epoch - 4ms/step\n",
      "accuracy: 89.11%\n",
      "Epoch 1/10\n",
      "1800/1800 [==============================] - 11s 6ms/step - loss: 0.4452 - accuracy: 0.8374\n",
      "Epoch 2/10\n",
      "1800/1800 [==============================] - 10s 6ms/step - loss: 0.3303 - accuracy: 0.8798\n",
      "Epoch 3/10\n",
      "1800/1800 [==============================] - 10s 6ms/step - loss: 0.2920 - accuracy: 0.8922\n",
      "Epoch 4/10\n",
      "1800/1800 [==============================] - 10s 6ms/step - loss: 0.2765 - accuracy: 0.8991\n",
      "Epoch 5/10\n",
      "1800/1800 [==============================] - 13s 7ms/step - loss: 0.2650 - accuracy: 0.9052\n",
      "Epoch 6/10\n",
      "1800/1800 [==============================] - 14s 8ms/step - loss: 0.2569 - accuracy: 0.9071\n",
      "Epoch 7/10\n",
      "1800/1800 [==============================] - 12s 7ms/step - loss: 0.2459 - accuracy: 0.9115\n",
      "Epoch 8/10\n",
      "1800/1800 [==============================] - 11s 6ms/step - loss: 0.2392 - accuracy: 0.9141\n",
      "Epoch 9/10\n",
      "1800/1800 [==============================] - 11s 6ms/step - loss: 0.2282 - accuracy: 0.9188\n",
      "Epoch 10/10\n",
      "1800/1800 [==============================] - 10s 6ms/step - loss: 0.2207 - accuracy: 0.9217\n"
     ]
    },
    {
     "data": {
      "image/png": "[encoded data removed]",
      "text/plain": [
       "<Figure size 576x360 with 1 Axes>"
      ]
     },
     "metadata": {
      "needs_background": "light"
     },
     "output_type": "display_data"
    },
    {
     "name": "stderr",
     "output_type": "stream",
     "text": [
      "D:\\Anaconda_2\\envs\\tf2.4\\lib\\site-packages\\tensorflow\\python\\util\\dispatch.py:1082: UserWarning: \"`sparse_categorical_crossentropy` received `from_logits=True`, but the `output` argument was produced by a sigmoid or softmax activation and thus does not represent logits. Was this intended?\"\n",
      "  return dispatch_target(*args, **kwargs)\n"
     ]
    },
    {
     "name": "stdout",
     "output_type": "stream",
     "text": [
      "200/200 - 1s - loss: 0.2999 - accuracy: 0.8989 - 737ms/epoch - 4ms/step\n",
      "accuracy: 89.89%\n",
      "Epoch 1/10\n",
      "1800/1800 [==============================] - 16s 9ms/step - loss: 0.4695 - accuracy: 0.8283\n",
      "Epoch 2/10\n",
      "1800/1800 [==============================] - 13s 7ms/step - loss: 0.3370 - accuracy: 0.8761\n",
      "Epoch 3/10\n",
      "1800/1800 [==============================] - 11s 6ms/step - loss: 0.3096 - accuracy: 0.8861\n",
      "Epoch 4/10\n",
      "1800/1800 [==============================] - 14s 8ms/step - loss: 0.2925 - accuracy: 0.8916\n",
      "Epoch 5/10\n",
      "1800/1800 [==============================] - 16s 9ms/step - loss: 0.2837 - accuracy: 0.8964\n",
      "Epoch 6/10\n",
      "1800/1800 [==============================] - 14s 8ms/step - loss: 0.2686 - accuracy: 0.9013\n",
      "Epoch 7/10\n",
      "1800/1800 [==============================] - 12s 7ms/step - loss: 0.2660 - accuracy: 0.9038\n",
      "Epoch 8/10\n",
      "1800/1800 [==============================] - 18s 10ms/step - loss: 0.2543 - accuracy: 0.9073\n",
      "Epoch 9/10\n",
      "1800/1800 [==============================] - 16s 9ms/step - loss: 0.2507 - accuracy: 0.9078\n",
      "Epoch 10/10\n",
      "1800/1800 [==============================] - 14s 8ms/step - loss: 0.2442 - accuracy: 0.9107\n"
     ]
    },
    {
     "data": {
      "image/png": "[encoded data removed]",
      "text/plain": [
       "<Figure size 576x360 with 1 Axes>"
      ]
     },
     "metadata": {
      "needs_background": "light"
     },
     "output_type": "display_data"
    },
    {
     "name": "stderr",
     "output_type": "stream",
     "text": [
      "D:\\Anaconda_2\\envs\\tf2.4\\lib\\site-packages\\tensorflow\\python\\util\\dispatch.py:1082: UserWarning: \"`sparse_categorical_crossentropy` received `from_logits=True`, but the `output` argument was produced by a sigmoid or softmax activation and thus does not represent logits. Was this intended?\"\n",
      "  return dispatch_target(*args, **kwargs)\n"
     ]
    },
    {
     "name": "stdout",
     "output_type": "stream",
     "text": [
      "200/200 - 1s - loss: 0.3315 - accuracy: 0.8967 - 770ms/epoch - 4ms/step\n",
      "accuracy: 89.67%\n",
      "Epoch 1/10\n",
      "1800/1800 [==============================] - 13s 7ms/step - loss: 0.4539 - accuracy: 0.8325\n",
      "Epoch 2/10\n",
      "1800/1800 [==============================] - 15s 8ms/step - loss: 0.3351 - accuracy: 0.8763\n",
      "Epoch 3/10\n",
      "1800/1800 [==============================] - 13s 7ms/step - loss: 0.3033 - accuracy: 0.8872\n",
      "Epoch 4/10\n",
      "1800/1800 [==============================] - 14s 8ms/step - loss: 0.2910 - accuracy: 0.8929\n",
      "Epoch 5/10\n",
      "1800/1800 [==============================] - 13s 7ms/step - loss: 0.2768 - accuracy: 0.8971\n",
      "Epoch 6/10\n",
      "1800/1800 [==============================] - 15s 8ms/step - loss: 0.2658 - accuracy: 0.9009\n",
      "Epoch 7/10\n",
      "1800/1800 [==============================] - 11s 6ms/step - loss: 0.2582 - accuracy: 0.9038\n",
      "Epoch 8/10\n",
      "1800/1800 [==============================] - 12s 6ms/step - loss: 0.2521 - accuracy: 0.9093\n",
      "Epoch 9/10\n",
      "1800/1800 [==============================] - 16s 9ms/step - loss: 0.2439 - accuracy: 0.9109\n",
      "Epoch 10/10\n",
      "1800/1800 [==============================] - 12s 7ms/step - loss: 0.2437 - accuracy: 0.9106\n"
     ]
    },
    {
     "data": {
      "image/png": "[encoded data removed]",
      "text/plain": [
       "<Figure size 576x360 with 1 Axes>"
      ]
     },
     "metadata": {
      "needs_background": "light"
     },
     "output_type": "display_data"
    },
    {
     "name": "stderr",
     "output_type": "stream",
     "text": [
      "D:\\Anaconda_2\\envs\\tf2.4\\lib\\site-packages\\tensorflow\\python\\util\\dispatch.py:1082: UserWarning: \"`sparse_categorical_crossentropy` received `from_logits=True`, but the `output` argument was produced by a sigmoid or softmax activation and thus does not represent logits. Was this intended?\"\n",
      "  return dispatch_target(*args, **kwargs)\n"
     ]
    },
    {
     "name": "stdout",
     "output_type": "stream",
     "text": [
      "200/200 - 1s - loss: 0.3383 - accuracy: 0.8991 - 818ms/epoch - 4ms/step\n",
      "accuracy: 89.91%\n",
      "Epoch 1/10\n",
      "1800/1800 [==============================] - 15s 8ms/step - loss: 0.4640 - accuracy: 0.8296\n",
      "Epoch 2/10\n",
      "1800/1800 [==============================] - 12s 7ms/step - loss: 0.3322 - accuracy: 0.8777\n",
      "Epoch 3/10\n",
      "1800/1800 [==============================] - 12s 7ms/step - loss: 0.3009 - accuracy: 0.8888\n",
      "Epoch 4/10\n",
      "1800/1800 [==============================] - 11s 6ms/step - loss: 0.2830 - accuracy: 0.8963\n",
      "Epoch 5/10\n",
      "1800/1800 [==============================] - 12s 7ms/step - loss: 0.2628 - accuracy: 0.9034\n",
      "Epoch 6/10\n",
      "1800/1800 [==============================] - 11s 6ms/step - loss: 0.2573 - accuracy: 0.9070\n",
      "Epoch 7/10\n",
      "1800/1800 [==============================] - 15s 8ms/step - loss: 0.2496 - accuracy: 0.9097\n",
      "Epoch 8/10\n",
      "1800/1800 [==============================] - 13s 7ms/step - loss: 0.2381 - accuracy: 0.9123\n",
      "Epoch 9/10\n",
      "1800/1800 [==============================] - 15s 8ms/step - loss: 0.2395 - accuracy: 0.9137\n",
      "Epoch 10/10\n",
      "1800/1800 [==============================] - 12s 6ms/step - loss: 0.2232 - accuracy: 0.9179\n"
     ]
    },
    {
     "data": {
      "image/png": "[encoded data removed]",
      "text/plain": [
       "<Figure size 576x360 with 1 Axes>"
      ]
     },
     "metadata": {
      "needs_background": "light"
     },
     "output_type": "display_data"
    },
    {
     "name": "stderr",
     "output_type": "stream",
     "text": [
      "D:\\Anaconda_2\\envs\\tf2.4\\lib\\site-packages\\tensorflow\\python\\util\\dispatch.py:1082: UserWarning: \"`sparse_categorical_crossentropy` received `from_logits=True`, but the `output` argument was produced by a sigmoid or softmax activation and thus does not represent logits. Was this intended?\"\n",
      "  return dispatch_target(*args, **kwargs)\n"
     ]
    },
    {
     "name": "stdout",
     "output_type": "stream",
     "text": [
      "200/200 - 1s - loss: 0.3341 - accuracy: 0.8955 - 770ms/epoch - 4ms/step\n",
      "accuracy: 89.55%\n",
      "Epoch 1/10\n",
      "1800/1800 [==============================] - 11s 6ms/step - loss: 0.4596 - accuracy: 0.8315\n",
      "Epoch 2/10\n",
      "1800/1800 [==============================] - 10s 5ms/step - loss: 0.3307 - accuracy: 0.8789\n",
      "Epoch 3/10\n",
      "1800/1800 [==============================] - 10s 5ms/step - loss: 0.2964 - accuracy: 0.8936\n",
      "Epoch 4/10\n",
      "1800/1800 [==============================] - 12s 7ms/step - loss: 0.2848 - accuracy: 0.8960\n",
      "Epoch 5/10\n",
      "1800/1800 [==============================] - 13s 7ms/step - loss: 0.2605 - accuracy: 0.9036\n",
      "Epoch 6/10\n",
      "1800/1800 [==============================] - 13s 7ms/step - loss: 0.2536 - accuracy: 0.9086\n",
      "Epoch 7/10\n",
      "1800/1800 [==============================] - 13s 7ms/step - loss: 0.2420 - accuracy: 0.9122\n",
      "Epoch 8/10\n",
      "1800/1800 [==============================] - 13s 7ms/step - loss: 0.2409 - accuracy: 0.9143\n",
      "Epoch 9/10\n",
      "1800/1800 [==============================] - 13s 7ms/step - loss: 0.2285 - accuracy: 0.9166\n",
      "Epoch 10/10\n",
      "1800/1800 [==============================] - 13s 7ms/step - loss: 0.2284 - accuracy: 0.9175\n"
     ]
    },
    {
     "data": {
      "image/png": "[encoded data removed]",
      "text/plain": [
       "<Figure size 576x360 with 1 Axes>"
      ]
     },
     "metadata": {
      "needs_background": "light"
     },
     "output_type": "display_data"
    },
    {
     "name": "stderr",
     "output_type": "stream",
     "text": [
      "D:\\Anaconda_2\\envs\\tf2.4\\lib\\site-packages\\tensorflow\\python\\util\\dispatch.py:1082: UserWarning: \"`sparse_categorical_crossentropy` received `from_logits=True`, but the `output` argument was produced by a sigmoid or softmax activation and thus does not represent logits. Was this intended?\"\n",
      "  return dispatch_target(*args, **kwargs)\n"
     ]
    },
    {
     "name": "stdout",
     "output_type": "stream",
     "text": [
      "200/200 - 1s - loss: 0.3329 - accuracy: 0.8977 - 823ms/epoch - 4ms/step\n",
      "accuracy: 89.77%\n",
      "Epoch 1/10\n",
      "1800/1800 [==============================] - 14s 7ms/step - loss: 0.4565 - accuracy: 0.8344\n",
      "Epoch 2/10\n",
      "1800/1800 [==============================] - 13s 7ms/step - loss: 0.3311 - accuracy: 0.8794\n",
      "Epoch 3/10\n",
      "1800/1800 [==============================] - 13s 7ms/step - loss: 0.2971 - accuracy: 0.8911\n",
      "Epoch 4/10\n",
      "1800/1800 [==============================] - 13s 7ms/step - loss: 0.2777 - accuracy: 0.8991\n",
      "Epoch 5/10\n",
      "1800/1800 [==============================] - 10s 6ms/step - loss: 0.2605 - accuracy: 0.9064\n",
      "Epoch 6/10\n",
      "1800/1800 [==============================] - 10s 6ms/step - loss: 0.2509 - accuracy: 0.9101\n",
      "Epoch 7/10\n",
      "1800/1800 [==============================] - 10s 6ms/step - loss: 0.2488 - accuracy: 0.9117\n",
      "Epoch 8/10\n",
      "1800/1800 [==============================] - 10s 5ms/step - loss: 0.2420 - accuracy: 0.9136\n",
      "Epoch 9/10\n",
      "1800/1800 [==============================] - 10s 5ms/step - loss: 0.2347 - accuracy: 0.9184\n",
      "Epoch 10/10\n",
      "1800/1800 [==============================] - 13s 7ms/step - loss: 0.2287 - accuracy: 0.9186\n"
     ]
    },
    {
     "data": {
      "image/png": "[encoded data removed]",
      "text/plain": [
       "<Figure size 576x360 with 1 Axes>"
      ]
     },
     "metadata": {
      "needs_background": "light"
     },
     "output_type": "display_data"
    },
    {
     "name": "stderr",
     "output_type": "stream",
     "text": [
      "D:\\Anaconda_2\\envs\\tf2.4\\lib\\site-packages\\tensorflow\\python\\util\\dispatch.py:1082: UserWarning: \"`sparse_categorical_crossentropy` received `from_logits=True`, but the `output` argument was produced by a sigmoid or softmax activation and thus does not represent logits. Was this intended?\"\n",
      "  return dispatch_target(*args, **kwargs)\n"
     ]
    },
    {
     "name": "stdout",
     "output_type": "stream",
     "text": [
      "200/200 - 1s - loss: 0.3256 - accuracy: 0.8978 - 660ms/epoch - 3ms/step\n",
      "accuracy: 89.78%\n",
      "Epoch 1/10\n",
      "1800/1800 [==============================] - 11s 6ms/step - loss: 0.4759 - accuracy: 0.8252\n",
      "Epoch 2/10\n",
      "1800/1800 [==============================] - 10s 6ms/step - loss: 0.3454 - accuracy: 0.8729\n",
      "Epoch 3/10\n",
      "1800/1800 [==============================] - 10s 6ms/step - loss: 0.3129 - accuracy: 0.8853\n",
      "Epoch 4/10\n",
      "1800/1800 [==============================] - 10s 6ms/step - loss: 0.2982 - accuracy: 0.8900\n",
      "Epoch 5/10\n",
      "1800/1800 [==============================] - 10s 6ms/step - loss: 0.2839 - accuracy: 0.8958\n",
      "Epoch 6/10\n",
      "1800/1800 [==============================] - 10s 6ms/step - loss: 0.2741 - accuracy: 0.9003\n",
      "Epoch 7/10\n",
      "1800/1800 [==============================] - 10s 6ms/step - loss: 0.2674 - accuracy: 0.9018\n",
      "Epoch 8/10\n",
      "1800/1800 [==============================] - 12s 6ms/step - loss: 0.2628 - accuracy: 0.9058\n",
      "Epoch 9/10\n",
      "1800/1800 [==============================] - 12s 7ms/step - loss: 0.2597 - accuracy: 0.9052\n",
      "Epoch 10/10\n",
      "1800/1800 [==============================] - 10s 6ms/step - loss: 0.2469 - accuracy: 0.9112\n"
     ]
    },
    {
     "data": {
      "image/png": "[encoded data removed]",
      "text/plain": [
       "<Figure size 576x360 with 1 Axes>"
      ]
     },
     "metadata": {
      "needs_background": "light"
     },
     "output_type": "display_data"
    },
    {
     "name": "stderr",
     "output_type": "stream",
     "text": [
      "D:\\Anaconda_2\\envs\\tf2.4\\lib\\site-packages\\tensorflow\\python\\util\\dispatch.py:1082: UserWarning: \"`sparse_categorical_crossentropy` received `from_logits=True`, but the `output` argument was produced by a sigmoid or softmax activation and thus does not represent logits. Was this intended?\"\n",
      "  return dispatch_target(*args, **kwargs)\n"
     ]
    },
    {
     "name": "stdout",
     "output_type": "stream",
     "text": [
      "200/200 - 1s - loss: 0.3356 - accuracy: 0.8895 - 877ms/epoch - 4ms/step\n",
      "accuracy: 88.95%\n",
      "Epoch 1/10\n",
      "1800/1800 [==============================] - 10s 5ms/step - loss: 0.4619 - accuracy: 0.8309\n",
      "Epoch 2/10\n",
      "1800/1800 [==============================] - 10s 6ms/step - loss: 0.3367 - accuracy: 0.8773\n",
      "Epoch 3/10\n",
      "1800/1800 [==============================] - 10s 6ms/step - loss: 0.2999 - accuracy: 0.8894\n",
      "Epoch 4/10\n",
      "1800/1800 [==============================] - 10s 6ms/step - loss: 0.2887 - accuracy: 0.8951\n",
      "Epoch 5/10\n",
      "1800/1800 [==============================] - 10s 6ms/step - loss: 0.2652 - accuracy: 0.9044\n",
      "Epoch 6/10\n",
      "1800/1800 [==============================] - 10s 5ms/step - loss: 0.2613 - accuracy: 0.9054\n",
      "Epoch 7/10\n",
      "1800/1800 [==============================] - 12s 7ms/step - loss: 0.2506 - accuracy: 0.9085\n",
      "Epoch 8/10\n",
      "1800/1800 [==============================] - 11s 6ms/step - loss: 0.2500 - accuracy: 0.9103\n",
      "Epoch 9/10\n",
      "1800/1800 [==============================] - 10s 6ms/step - loss: 0.2372 - accuracy: 0.9139\n",
      "Epoch 10/10\n",
      "1800/1800 [==============================] - 10s 5ms/step - loss: 0.2255 - accuracy: 0.9169\n"
     ]
    },
    {
     "data": {
      "image/png": "[encoded data removed]",
      "text/plain": [
       "<Figure size 576x360 with 1 Axes>"
      ]
     },
     "metadata": {
      "needs_background": "light"
     },
     "output_type": "display_data"
    },
    {
     "name": "stderr",
     "output_type": "stream",
     "text": [
      "D:\\Anaconda_2\\envs\\tf2.4\\lib\\site-packages\\tensorflow\\python\\util\\dispatch.py:1082: UserWarning: \"`sparse_categorical_crossentropy` received `from_logits=True`, but the `output` argument was produced by a sigmoid or softmax activation and thus does not represent logits. Was this intended?\"\n",
      "  return dispatch_target(*args, **kwargs)\n"
     ]
    },
    {
     "name": "stdout",
     "output_type": "stream",
     "text": [
      "200/200 - 1s - loss: 0.2999 - accuracy: 0.9036 - 611ms/epoch - 3ms/step\n",
      "accuracy: 90.36%\n",
      "Epoch 1/10\n",
      "1800/1800 [==============================] - 13s 7ms/step - loss: 0.4557 - accuracy: 0.8330\n",
      "Epoch 2/10\n",
      "1800/1800 [==============================] - 13s 7ms/step - loss: 0.3422 - accuracy: 0.8751\n",
      "Epoch 3/10\n",
      "1800/1800 [==============================] - 13s 7ms/step - loss: 0.3100 - accuracy: 0.8883\n",
      "Epoch 4/10\n",
      "1800/1800 [==============================] - 11s 6ms/step - loss: 0.2838 - accuracy: 0.8970\n",
      "Epoch 5/10\n",
      "1800/1800 [==============================] - 10s 6ms/step - loss: 0.2705 - accuracy: 0.9021\n",
      "Epoch 6/10\n",
      "1800/1800 [==============================] - 10s 6ms/step - loss: 0.2609 - accuracy: 0.9058\n",
      "Epoch 7/10\n",
      "1800/1800 [==============================] - 10s 6ms/step - loss: 0.2475 - accuracy: 0.9111\n",
      "Epoch 8/10\n",
      "1800/1800 [==============================] - 10s 6ms/step - loss: 0.2403 - accuracy: 0.9144\n",
      "Epoch 9/10\n",
      "1800/1800 [==============================] - 13s 7ms/step - loss: 0.2341 - accuracy: 0.9155\n",
      "Epoch 10/10\n",
      "1800/1800 [==============================] - 10s 6ms/step - loss: 0.2270 - accuracy: 0.9197\n"
     ]
    },
    {
     "data": {
      "image/png": "[encoded data removed]",
      "text/plain": [
       "<Figure size 576x360 with 1 Axes>"
      ]
     },
     "metadata": {
      "needs_background": "light"
     },
     "output_type": "display_data"
    },
    {
     "name": "stderr",
     "output_type": "stream",
     "text": [
      "D:\\Anaconda_2\\envs\\tf2.4\\lib\\site-packages\\tensorflow\\python\\util\\dispatch.py:1082: UserWarning: \"`sparse_categorical_crossentropy` received `from_logits=True`, but the `output` argument was produced by a sigmoid or softmax activation and thus does not represent logits. Was this intended?\"\n",
      "  return dispatch_target(*args, **kwargs)\n"
     ]
    },
    {
     "name": "stdout",
     "output_type": "stream",
     "text": [
      "200/200 - 1s - loss: 0.3331 - accuracy: 0.8988 - 902ms/epoch - 5ms/step\n",
      "accuracy: 89.88%\n",
      "89.69% (+/- 0.39%)\n"
     ]
    }
   ],
   "source": [
    "kfold = StratifiedKFold(n_splits=10, shuffle=True, random_state=seed)\n",
    "cvscores = []\n",
    "for train, test in kfold.split(X, Y):\n",
    "\t\t\n",
    "\t'''Variant 2 - BatchNormalization'''\n",
    "\n",
    "\tvariant_2 = keras.models.Sequential()\n",
    "\tvariant_2.add(DefaultConv2D(filters=16, kernel_size=3, input_shape=input_shape))\n",
    "\tvariant_2.add(keras.layers.BatchNormalization())\n",
    "\tvariant_2.add(keras.layers.AveragePooling2D(pool_size=2))\n",
    "\tvariant_2.add(DefaultConv2D(filters=32))\n",
    "\tvariant_2.add(keras.layers.BatchNormalization())\n",
    "\tvariant_2.add(keras.layers.AveragePooling2D(pool_size=2))\n",
    "\tvariant_2.add(keras.layers.Flatten())\n",
    "\tvariant_2.add(keras.layers.BatchNormalization())\n",
    "\tvariant_2.add(keras.layers.Dense(300, activation=\"relu\"))\n",
    "\tvariant_2.add(keras.layers.BatchNormalization())\n",
    "\tvariant_2.add(keras.layers.Dense(100, activation=\"relu\"))\n",
    "\tvariant_2.add(keras.layers.BatchNormalization())\n",
    "\tvariant_2.add(keras.layers.Dense(10, activation=\"softmax\"))\n",
    "\n",
    "\toptimizer = keras.optimizers.Adam(learning_rate)\n",
    "\n",
    "\tvariant_2.compile(optimizer=optimizer, loss=tf.keras.losses.SparseCategoricalCrossentropy(from_logits=True), metrics=['accuracy'])\n",
    "\n",
    "\toptimizer = keras.optimizers.Adam(learning_rate)\n",
    "\thistory = variant_2.fit(X[train], Y[train], epochs=10, batch_size=32) #, callbacks=[lr_scheduler]\n",
    "\tplot_history(history, 'Variant 3 - Zero Padding')\n",
    "\n",
    "\tscores = variant_2.evaluate(X[test], Y[test], verbose=2)\n",
    "\tprint(\"%s: %.2f%%\" % (variant_3.metrics_names[1], scores[1]*100))\n",
    "\tcvscores.append(scores[1] * 100)\n",
    "print(\"%.2f%% (+/- %.2f%%)\" % (np.mean(cvscores), np.std(cvscores)))\n"
   ]
  },
  {
   "cell_type": "code",
   "execution_count": 14,
   "metadata": {},
   "outputs": [
    {
     "data": {
      "text/plain": [
       "[86.7968738079071,\n",
       " 90.92187285423279,\n",
       " 91.00000262260437,\n",
       " 91.53125286102295,\n",
       " 90.12500047683716,\n",
       " 90.42187333106995,\n",
       " 91.60937666893005,\n",
       " 87.65624761581421,\n",
       " 89.98437523841858,\n",
       " 89.43750262260437]"
      ]
     },
     "execution_count": 14,
     "metadata": {},
     "output_type": "execute_result"
    }
   ],
   "source": [
    "cvscores"
   ]
  },
  {
   "cell_type": "code",
   "execution_count": 159,
   "metadata": {},
   "outputs": [
    {
     "name": "stdout",
     "output_type": "stream",
     "text": [
      "Epoch 1/6\n"
     ]
    },
    {
     "name": "stderr",
     "output_type": "stream",
     "text": [
      "D:\\Anaconda_2\\envs\\tf2.4\\lib\\site-packages\\tensorflow\\python\\util\\dispatch.py:1082: UserWarning: \"`sparse_categorical_crossentropy` received `from_logits=True`, but the `output` argument was produced by a sigmoid or softmax activation and thus does not represent logits. Was this intended?\"\n",
      "  return dispatch_target(*args, **kwargs)\n"
     ]
    },
    {
     "name": "stdout",
     "output_type": "stream",
     "text": [
      " 984/1688 [================>.............] - ETA: 6s - loss: 2.3042 - accuracy: 0.1000"
     ]
    },
    {
     "ename": "KeyboardInterrupt",
     "evalue": "",
     "output_type": "error",
     "traceback": [
      "\u001b[1;31m---------------------------------------------------------------------------\u001b[0m",
      "\u001b[1;31mKeyboardInterrupt\u001b[0m                         Traceback (most recent call last)",
      "Input \u001b[1;32mIn [159]\u001b[0m, in \u001b[0;36m<cell line: 24>\u001b[1;34m()\u001b[0m\n\u001b[0;32m     20\u001b[0m \u001b[39m#lr_scheduler = keras.callbacks.ReduceLROnPlateau(monitor='val_loss', factor=0.005, patience=2, min_lr=0.000001, verbose=1)\u001b[39;00m\n\u001b[0;32m     22\u001b[0m lr_scheduler \u001b[39m=\u001b[39m keras\u001b[39m.\u001b[39mcallbacks\u001b[39m.\u001b[39mLearningRateScheduler(piecewise_constant_fn)\n\u001b[1;32m---> 24\u001b[0m history \u001b[39m=\u001b[39m baseline\u001b[39m.\u001b[39;49mfit(train_images, train_labels, epochs\u001b[39m=\u001b[39;49m\u001b[39m6\u001b[39;49m, batch_size\u001b[39m=\u001b[39;49m\u001b[39m32\u001b[39;49m, validation_data\u001b[39m=\u001b[39;49m(X_valid, y_valid)) \u001b[39m#, callbacks=[lr_scheduler]\u001b[39;00m\n\u001b[0;32m     26\u001b[0m plot_history(history, \u001b[39m'\u001b[39m\u001b[39mBaseline model\u001b[39m\u001b[39m'\u001b[39m)\n\u001b[0;32m     28\u001b[0m \u001b[39m#reg_baseline = keras.wrappers.scikit_learn.KerasRegressor(baseline)\u001b[39;00m\n",
      "File \u001b[1;32mD:\\Anaconda_2\\envs\\tf2.4\\lib\\site-packages\\keras\\utils\\traceback_utils.py:64\u001b[0m, in \u001b[0;36mfilter_traceback.<locals>.error_handler\u001b[1;34m(*args, **kwargs)\u001b[0m\n\u001b[0;32m     <a href='file:///d%3A/Anaconda_2/envs/tf2.4/lib/site-packages/keras/utils/traceback_utils.py?line=61'>62</a>\u001b[0m filtered_tb \u001b[39m=\u001b[39m \u001b[39mNone\u001b[39;00m\n\u001b[0;32m     <a href='file:///d%3A/Anaconda_2/envs/tf2.4/lib/site-packages/keras/utils/traceback_utils.py?line=62'>63</a>\u001b[0m \u001b[39mtry\u001b[39;00m:\n\u001b[1;32m---> <a href='file:///d%3A/Anaconda_2/envs/tf2.4/lib/site-packages/keras/utils/traceback_utils.py?line=63'>64</a>\u001b[0m   \u001b[39mreturn\u001b[39;00m fn(\u001b[39m*\u001b[39;49margs, \u001b[39m*\u001b[39;49m\u001b[39m*\u001b[39;49mkwargs)\n\u001b[0;32m     <a href='file:///d%3A/Anaconda_2/envs/tf2.4/lib/site-packages/keras/utils/traceback_utils.py?line=64'>65</a>\u001b[0m \u001b[39mexcept\u001b[39;00m \u001b[39mException\u001b[39;00m \u001b[39mas\u001b[39;00m e:  \u001b[39m# pylint: disable=broad-except\u001b[39;00m\n\u001b[0;32m     <a href='file:///d%3A/Anaconda_2/envs/tf2.4/lib/site-packages/keras/utils/traceback_utils.py?line=65'>66</a>\u001b[0m   filtered_tb \u001b[39m=\u001b[39m _process_traceback_frames(e\u001b[39m.\u001b[39m__traceback__)\n",
      "File \u001b[1;32mD:\\Anaconda_2\\envs\\tf2.4\\lib\\site-packages\\keras\\engine\\training.py:1384\u001b[0m, in \u001b[0;36mModel.fit\u001b[1;34m(self, x, y, batch_size, epochs, verbose, callbacks, validation_split, validation_data, shuffle, class_weight, sample_weight, initial_epoch, steps_per_epoch, validation_steps, validation_batch_size, validation_freq, max_queue_size, workers, use_multiprocessing)\u001b[0m\n\u001b[0;32m   <a href='file:///d%3A/Anaconda_2/envs/tf2.4/lib/site-packages/keras/engine/training.py?line=1376'>1377</a>\u001b[0m \u001b[39mwith\u001b[39;00m tf\u001b[39m.\u001b[39mprofiler\u001b[39m.\u001b[39mexperimental\u001b[39m.\u001b[39mTrace(\n\u001b[0;32m   <a href='file:///d%3A/Anaconda_2/envs/tf2.4/lib/site-packages/keras/engine/training.py?line=1377'>1378</a>\u001b[0m     \u001b[39m'\u001b[39m\u001b[39mtrain\u001b[39m\u001b[39m'\u001b[39m,\n\u001b[0;32m   <a href='file:///d%3A/Anaconda_2/envs/tf2.4/lib/site-packages/keras/engine/training.py?line=1378'>1379</a>\u001b[0m     epoch_num\u001b[39m=\u001b[39mepoch,\n\u001b[0;32m   <a href='file:///d%3A/Anaconda_2/envs/tf2.4/lib/site-packages/keras/engine/training.py?line=1379'>1380</a>\u001b[0m     step_num\u001b[39m=\u001b[39mstep,\n\u001b[0;32m   <a href='file:///d%3A/Anaconda_2/envs/tf2.4/lib/site-packages/keras/engine/training.py?line=1380'>1381</a>\u001b[0m     batch_size\u001b[39m=\u001b[39mbatch_size,\n\u001b[0;32m   <a href='file:///d%3A/Anaconda_2/envs/tf2.4/lib/site-packages/keras/engine/training.py?line=1381'>1382</a>\u001b[0m     _r\u001b[39m=\u001b[39m\u001b[39m1\u001b[39m):\n\u001b[0;32m   <a href='file:///d%3A/Anaconda_2/envs/tf2.4/lib/site-packages/keras/engine/training.py?line=1382'>1383</a>\u001b[0m   callbacks\u001b[39m.\u001b[39mon_train_batch_begin(step)\n\u001b[1;32m-> <a href='file:///d%3A/Anaconda_2/envs/tf2.4/lib/site-packages/keras/engine/training.py?line=1383'>1384</a>\u001b[0m   tmp_logs \u001b[39m=\u001b[39m \u001b[39mself\u001b[39;49m\u001b[39m.\u001b[39;49mtrain_function(iterator)\n\u001b[0;32m   <a href='file:///d%3A/Anaconda_2/envs/tf2.4/lib/site-packages/keras/engine/training.py?line=1384'>1385</a>\u001b[0m   \u001b[39mif\u001b[39;00m data_handler\u001b[39m.\u001b[39mshould_sync:\n\u001b[0;32m   <a href='file:///d%3A/Anaconda_2/envs/tf2.4/lib/site-packages/keras/engine/training.py?line=1385'>1386</a>\u001b[0m     context\u001b[39m.\u001b[39masync_wait()\n",
      "File \u001b[1;32mD:\\Anaconda_2\\envs\\tf2.4\\lib\\site-packages\\tensorflow\\python\\util\\traceback_utils.py:150\u001b[0m, in \u001b[0;36mfilter_traceback.<locals>.error_handler\u001b[1;34m(*args, **kwargs)\u001b[0m\n\u001b[0;32m    <a href='file:///d%3A/Anaconda_2/envs/tf2.4/lib/site-packages/tensorflow/python/util/traceback_utils.py?line=147'>148</a>\u001b[0m filtered_tb \u001b[39m=\u001b[39m \u001b[39mNone\u001b[39;00m\n\u001b[0;32m    <a href='file:///d%3A/Anaconda_2/envs/tf2.4/lib/site-packages/tensorflow/python/util/traceback_utils.py?line=148'>149</a>\u001b[0m \u001b[39mtry\u001b[39;00m:\n\u001b[1;32m--> <a href='file:///d%3A/Anaconda_2/envs/tf2.4/lib/site-packages/tensorflow/python/util/traceback_utils.py?line=149'>150</a>\u001b[0m   \u001b[39mreturn\u001b[39;00m fn(\u001b[39m*\u001b[39;49margs, \u001b[39m*\u001b[39;49m\u001b[39m*\u001b[39;49mkwargs)\n\u001b[0;32m    <a href='file:///d%3A/Anaconda_2/envs/tf2.4/lib/site-packages/tensorflow/python/util/traceback_utils.py?line=150'>151</a>\u001b[0m \u001b[39mexcept\u001b[39;00m \u001b[39mException\u001b[39;00m \u001b[39mas\u001b[39;00m e:\n\u001b[0;32m    <a href='file:///d%3A/Anaconda_2/envs/tf2.4/lib/site-packages/tensorflow/python/util/traceback_utils.py?line=151'>152</a>\u001b[0m   filtered_tb \u001b[39m=\u001b[39m _process_traceback_frames(e\u001b[39m.\u001b[39m__traceback__)\n",
      "File \u001b[1;32mD:\\Anaconda_2\\envs\\tf2.4\\lib\\site-packages\\tensorflow\\python\\eager\\def_function.py:915\u001b[0m, in \u001b[0;36mFunction.__call__\u001b[1;34m(self, *args, **kwds)\u001b[0m\n\u001b[0;32m    <a href='file:///d%3A/Anaconda_2/envs/tf2.4/lib/site-packages/tensorflow/python/eager/def_function.py?line=911'>912</a>\u001b[0m compiler \u001b[39m=\u001b[39m \u001b[39m\"\u001b[39m\u001b[39mxla\u001b[39m\u001b[39m\"\u001b[39m \u001b[39mif\u001b[39;00m \u001b[39mself\u001b[39m\u001b[39m.\u001b[39m_jit_compile \u001b[39melse\u001b[39;00m \u001b[39m\"\u001b[39m\u001b[39mnonXla\u001b[39m\u001b[39m\"\u001b[39m\n\u001b[0;32m    <a href='file:///d%3A/Anaconda_2/envs/tf2.4/lib/site-packages/tensorflow/python/eager/def_function.py?line=913'>914</a>\u001b[0m \u001b[39mwith\u001b[39;00m OptionalXlaContext(\u001b[39mself\u001b[39m\u001b[39m.\u001b[39m_jit_compile):\n\u001b[1;32m--> <a href='file:///d%3A/Anaconda_2/envs/tf2.4/lib/site-packages/tensorflow/python/eager/def_function.py?line=914'>915</a>\u001b[0m   result \u001b[39m=\u001b[39m \u001b[39mself\u001b[39;49m\u001b[39m.\u001b[39;49m_call(\u001b[39m*\u001b[39;49margs, \u001b[39m*\u001b[39;49m\u001b[39m*\u001b[39;49mkwds)\n\u001b[0;32m    <a href='file:///d%3A/Anaconda_2/envs/tf2.4/lib/site-packages/tensorflow/python/eager/def_function.py?line=916'>917</a>\u001b[0m new_tracing_count \u001b[39m=\u001b[39m \u001b[39mself\u001b[39m\u001b[39m.\u001b[39mexperimental_get_tracing_count()\n\u001b[0;32m    <a href='file:///d%3A/Anaconda_2/envs/tf2.4/lib/site-packages/tensorflow/python/eager/def_function.py?line=917'>918</a>\u001b[0m without_tracing \u001b[39m=\u001b[39m (tracing_count \u001b[39m==\u001b[39m new_tracing_count)\n",
      "File \u001b[1;32mD:\\Anaconda_2\\envs\\tf2.4\\lib\\site-packages\\tensorflow\\python\\eager\\def_function.py:947\u001b[0m, in \u001b[0;36mFunction._call\u001b[1;34m(self, *args, **kwds)\u001b[0m\n\u001b[0;32m    <a href='file:///d%3A/Anaconda_2/envs/tf2.4/lib/site-packages/tensorflow/python/eager/def_function.py?line=943'>944</a>\u001b[0m   \u001b[39mself\u001b[39m\u001b[39m.\u001b[39m_lock\u001b[39m.\u001b[39mrelease()\n\u001b[0;32m    <a href='file:///d%3A/Anaconda_2/envs/tf2.4/lib/site-packages/tensorflow/python/eager/def_function.py?line=944'>945</a>\u001b[0m   \u001b[39m# In this case we have created variables on the first call, so we run the\u001b[39;00m\n\u001b[0;32m    <a href='file:///d%3A/Anaconda_2/envs/tf2.4/lib/site-packages/tensorflow/python/eager/def_function.py?line=945'>946</a>\u001b[0m   \u001b[39m# defunned version which is guaranteed to never create variables.\u001b[39;00m\n\u001b[1;32m--> <a href='file:///d%3A/Anaconda_2/envs/tf2.4/lib/site-packages/tensorflow/python/eager/def_function.py?line=946'>947</a>\u001b[0m   \u001b[39mreturn\u001b[39;00m \u001b[39mself\u001b[39;49m\u001b[39m.\u001b[39;49m_stateless_fn(\u001b[39m*\u001b[39;49margs, \u001b[39m*\u001b[39;49m\u001b[39m*\u001b[39;49mkwds)  \u001b[39m# pylint: disable=not-callable\u001b[39;00m\n\u001b[0;32m    <a href='file:///d%3A/Anaconda_2/envs/tf2.4/lib/site-packages/tensorflow/python/eager/def_function.py?line=947'>948</a>\u001b[0m \u001b[39melif\u001b[39;00m \u001b[39mself\u001b[39m\u001b[39m.\u001b[39m_stateful_fn \u001b[39mis\u001b[39;00m \u001b[39mnot\u001b[39;00m \u001b[39mNone\u001b[39;00m:\n\u001b[0;32m    <a href='file:///d%3A/Anaconda_2/envs/tf2.4/lib/site-packages/tensorflow/python/eager/def_function.py?line=948'>949</a>\u001b[0m   \u001b[39m# Release the lock early so that multiple threads can perform the call\u001b[39;00m\n\u001b[0;32m    <a href='file:///d%3A/Anaconda_2/envs/tf2.4/lib/site-packages/tensorflow/python/eager/def_function.py?line=949'>950</a>\u001b[0m   \u001b[39m# in parallel.\u001b[39;00m\n\u001b[0;32m    <a href='file:///d%3A/Anaconda_2/envs/tf2.4/lib/site-packages/tensorflow/python/eager/def_function.py?line=950'>951</a>\u001b[0m   \u001b[39mself\u001b[39m\u001b[39m.\u001b[39m_lock\u001b[39m.\u001b[39mrelease()\n",
      "File \u001b[1;32mD:\\Anaconda_2\\envs\\tf2.4\\lib\\site-packages\\tensorflow\\python\\eager\\function.py:2956\u001b[0m, in \u001b[0;36mFunction.__call__\u001b[1;34m(self, *args, **kwargs)\u001b[0m\n\u001b[0;32m   <a href='file:///d%3A/Anaconda_2/envs/tf2.4/lib/site-packages/tensorflow/python/eager/function.py?line=2952'>2953</a>\u001b[0m \u001b[39mwith\u001b[39;00m \u001b[39mself\u001b[39m\u001b[39m.\u001b[39m_lock:\n\u001b[0;32m   <a href='file:///d%3A/Anaconda_2/envs/tf2.4/lib/site-packages/tensorflow/python/eager/function.py?line=2953'>2954</a>\u001b[0m   (graph_function,\n\u001b[0;32m   <a href='file:///d%3A/Anaconda_2/envs/tf2.4/lib/site-packages/tensorflow/python/eager/function.py?line=2954'>2955</a>\u001b[0m    filtered_flat_args) \u001b[39m=\u001b[39m \u001b[39mself\u001b[39m\u001b[39m.\u001b[39m_maybe_define_function(args, kwargs)\n\u001b[1;32m-> <a href='file:///d%3A/Anaconda_2/envs/tf2.4/lib/site-packages/tensorflow/python/eager/function.py?line=2955'>2956</a>\u001b[0m \u001b[39mreturn\u001b[39;00m graph_function\u001b[39m.\u001b[39;49m_call_flat(\n\u001b[0;32m   <a href='file:///d%3A/Anaconda_2/envs/tf2.4/lib/site-packages/tensorflow/python/eager/function.py?line=2956'>2957</a>\u001b[0m     filtered_flat_args, captured_inputs\u001b[39m=\u001b[39;49mgraph_function\u001b[39m.\u001b[39;49mcaptured_inputs)\n",
      "File \u001b[1;32mD:\\Anaconda_2\\envs\\tf2.4\\lib\\site-packages\\tensorflow\\python\\eager\\function.py:1853\u001b[0m, in \u001b[0;36mConcreteFunction._call_flat\u001b[1;34m(self, args, captured_inputs, cancellation_manager)\u001b[0m\n\u001b[0;32m   <a href='file:///d%3A/Anaconda_2/envs/tf2.4/lib/site-packages/tensorflow/python/eager/function.py?line=1848'>1849</a>\u001b[0m possible_gradient_type \u001b[39m=\u001b[39m gradients_util\u001b[39m.\u001b[39mPossibleTapeGradientTypes(args)\n\u001b[0;32m   <a href='file:///d%3A/Anaconda_2/envs/tf2.4/lib/site-packages/tensorflow/python/eager/function.py?line=1849'>1850</a>\u001b[0m \u001b[39mif\u001b[39;00m (possible_gradient_type \u001b[39m==\u001b[39m gradients_util\u001b[39m.\u001b[39mPOSSIBLE_GRADIENT_TYPES_NONE\n\u001b[0;32m   <a href='file:///d%3A/Anaconda_2/envs/tf2.4/lib/site-packages/tensorflow/python/eager/function.py?line=1850'>1851</a>\u001b[0m     \u001b[39mand\u001b[39;00m executing_eagerly):\n\u001b[0;32m   <a href='file:///d%3A/Anaconda_2/envs/tf2.4/lib/site-packages/tensorflow/python/eager/function.py?line=1851'>1852</a>\u001b[0m   \u001b[39m# No tape is watching; skip to running the function.\u001b[39;00m\n\u001b[1;32m-> <a href='file:///d%3A/Anaconda_2/envs/tf2.4/lib/site-packages/tensorflow/python/eager/function.py?line=1852'>1853</a>\u001b[0m   \u001b[39mreturn\u001b[39;00m \u001b[39mself\u001b[39m\u001b[39m.\u001b[39m_build_call_outputs(\u001b[39mself\u001b[39;49m\u001b[39m.\u001b[39;49m_inference_function\u001b[39m.\u001b[39;49mcall(\n\u001b[0;32m   <a href='file:///d%3A/Anaconda_2/envs/tf2.4/lib/site-packages/tensorflow/python/eager/function.py?line=1853'>1854</a>\u001b[0m       ctx, args, cancellation_manager\u001b[39m=\u001b[39;49mcancellation_manager))\n\u001b[0;32m   <a href='file:///d%3A/Anaconda_2/envs/tf2.4/lib/site-packages/tensorflow/python/eager/function.py?line=1854'>1855</a>\u001b[0m forward_backward \u001b[39m=\u001b[39m \u001b[39mself\u001b[39m\u001b[39m.\u001b[39m_select_forward_and_backward_functions(\n\u001b[0;32m   <a href='file:///d%3A/Anaconda_2/envs/tf2.4/lib/site-packages/tensorflow/python/eager/function.py?line=1855'>1856</a>\u001b[0m     args,\n\u001b[0;32m   <a href='file:///d%3A/Anaconda_2/envs/tf2.4/lib/site-packages/tensorflow/python/eager/function.py?line=1856'>1857</a>\u001b[0m     possible_gradient_type,\n\u001b[0;32m   <a href='file:///d%3A/Anaconda_2/envs/tf2.4/lib/site-packages/tensorflow/python/eager/function.py?line=1857'>1858</a>\u001b[0m     executing_eagerly)\n\u001b[0;32m   <a href='file:///d%3A/Anaconda_2/envs/tf2.4/lib/site-packages/tensorflow/python/eager/function.py?line=1858'>1859</a>\u001b[0m forward_function, args_with_tangents \u001b[39m=\u001b[39m forward_backward\u001b[39m.\u001b[39mforward()\n",
      "File \u001b[1;32mD:\\Anaconda_2\\envs\\tf2.4\\lib\\site-packages\\tensorflow\\python\\eager\\function.py:499\u001b[0m, in \u001b[0;36m_EagerDefinedFunction.call\u001b[1;34m(self, ctx, args, cancellation_manager)\u001b[0m\n\u001b[0;32m    <a href='file:///d%3A/Anaconda_2/envs/tf2.4/lib/site-packages/tensorflow/python/eager/function.py?line=496'>497</a>\u001b[0m \u001b[39mwith\u001b[39;00m _InterpolateFunctionError(\u001b[39mself\u001b[39m):\n\u001b[0;32m    <a href='file:///d%3A/Anaconda_2/envs/tf2.4/lib/site-packages/tensorflow/python/eager/function.py?line=497'>498</a>\u001b[0m   \u001b[39mif\u001b[39;00m cancellation_manager \u001b[39mis\u001b[39;00m \u001b[39mNone\u001b[39;00m:\n\u001b[1;32m--> <a href='file:///d%3A/Anaconda_2/envs/tf2.4/lib/site-packages/tensorflow/python/eager/function.py?line=498'>499</a>\u001b[0m     outputs \u001b[39m=\u001b[39m execute\u001b[39m.\u001b[39;49mexecute(\n\u001b[0;32m    <a href='file:///d%3A/Anaconda_2/envs/tf2.4/lib/site-packages/tensorflow/python/eager/function.py?line=499'>500</a>\u001b[0m         \u001b[39mstr\u001b[39;49m(\u001b[39mself\u001b[39;49m\u001b[39m.\u001b[39;49msignature\u001b[39m.\u001b[39;49mname),\n\u001b[0;32m    <a href='file:///d%3A/Anaconda_2/envs/tf2.4/lib/site-packages/tensorflow/python/eager/function.py?line=500'>501</a>\u001b[0m         num_outputs\u001b[39m=\u001b[39;49m\u001b[39mself\u001b[39;49m\u001b[39m.\u001b[39;49m_num_outputs,\n\u001b[0;32m    <a href='file:///d%3A/Anaconda_2/envs/tf2.4/lib/site-packages/tensorflow/python/eager/function.py?line=501'>502</a>\u001b[0m         inputs\u001b[39m=\u001b[39;49margs,\n\u001b[0;32m    <a href='file:///d%3A/Anaconda_2/envs/tf2.4/lib/site-packages/tensorflow/python/eager/function.py?line=502'>503</a>\u001b[0m         attrs\u001b[39m=\u001b[39;49mattrs,\n\u001b[0;32m    <a href='file:///d%3A/Anaconda_2/envs/tf2.4/lib/site-packages/tensorflow/python/eager/function.py?line=503'>504</a>\u001b[0m         ctx\u001b[39m=\u001b[39;49mctx)\n\u001b[0;32m    <a href='file:///d%3A/Anaconda_2/envs/tf2.4/lib/site-packages/tensorflow/python/eager/function.py?line=504'>505</a>\u001b[0m   \u001b[39melse\u001b[39;00m:\n\u001b[0;32m    <a href='file:///d%3A/Anaconda_2/envs/tf2.4/lib/site-packages/tensorflow/python/eager/function.py?line=505'>506</a>\u001b[0m     outputs \u001b[39m=\u001b[39m execute\u001b[39m.\u001b[39mexecute_with_cancellation(\n\u001b[0;32m    <a href='file:///d%3A/Anaconda_2/envs/tf2.4/lib/site-packages/tensorflow/python/eager/function.py?line=506'>507</a>\u001b[0m         \u001b[39mstr\u001b[39m(\u001b[39mself\u001b[39m\u001b[39m.\u001b[39msignature\u001b[39m.\u001b[39mname),\n\u001b[0;32m    <a href='file:///d%3A/Anaconda_2/envs/tf2.4/lib/site-packages/tensorflow/python/eager/function.py?line=507'>508</a>\u001b[0m         num_outputs\u001b[39m=\u001b[39m\u001b[39mself\u001b[39m\u001b[39m.\u001b[39m_num_outputs,\n\u001b[1;32m   (...)\u001b[0m\n\u001b[0;32m    <a href='file:///d%3A/Anaconda_2/envs/tf2.4/lib/site-packages/tensorflow/python/eager/function.py?line=510'>511</a>\u001b[0m         ctx\u001b[39m=\u001b[39mctx,\n\u001b[0;32m    <a href='file:///d%3A/Anaconda_2/envs/tf2.4/lib/site-packages/tensorflow/python/eager/function.py?line=511'>512</a>\u001b[0m         cancellation_manager\u001b[39m=\u001b[39mcancellation_manager)\n",
      "File \u001b[1;32mD:\\Anaconda_2\\envs\\tf2.4\\lib\\site-packages\\tensorflow\\python\\eager\\execute.py:54\u001b[0m, in \u001b[0;36mquick_execute\u001b[1;34m(op_name, num_outputs, inputs, attrs, ctx, name)\u001b[0m\n\u001b[0;32m     <a href='file:///d%3A/Anaconda_2/envs/tf2.4/lib/site-packages/tensorflow/python/eager/execute.py?line=51'>52</a>\u001b[0m \u001b[39mtry\u001b[39;00m:\n\u001b[0;32m     <a href='file:///d%3A/Anaconda_2/envs/tf2.4/lib/site-packages/tensorflow/python/eager/execute.py?line=52'>53</a>\u001b[0m   ctx\u001b[39m.\u001b[39mensure_initialized()\n\u001b[1;32m---> <a href='file:///d%3A/Anaconda_2/envs/tf2.4/lib/site-packages/tensorflow/python/eager/execute.py?line=53'>54</a>\u001b[0m   tensors \u001b[39m=\u001b[39m pywrap_tfe\u001b[39m.\u001b[39;49mTFE_Py_Execute(ctx\u001b[39m.\u001b[39;49m_handle, device_name, op_name,\n\u001b[0;32m     <a href='file:///d%3A/Anaconda_2/envs/tf2.4/lib/site-packages/tensorflow/python/eager/execute.py?line=54'>55</a>\u001b[0m                                       inputs, attrs, num_outputs)\n\u001b[0;32m     <a href='file:///d%3A/Anaconda_2/envs/tf2.4/lib/site-packages/tensorflow/python/eager/execute.py?line=55'>56</a>\u001b[0m \u001b[39mexcept\u001b[39;00m core\u001b[39m.\u001b[39m_NotOkStatusException \u001b[39mas\u001b[39;00m e:\n\u001b[0;32m     <a href='file:///d%3A/Anaconda_2/envs/tf2.4/lib/site-packages/tensorflow/python/eager/execute.py?line=56'>57</a>\u001b[0m   \u001b[39mif\u001b[39;00m name \u001b[39mis\u001b[39;00m \u001b[39mnot\u001b[39;00m \u001b[39mNone\u001b[39;00m:\n",
      "\u001b[1;31mKeyboardInterrupt\u001b[0m: "
     ]
    }
   ],
   "source": [
    "\n",
    "# DefaultConv2D = partial(keras.layers.Conv2D, kernel_size=3, activation='relu', padding=\"VALID\")\n",
    "\n",
    "'''Baseline model'''\n",
    "\n",
    "baseline = keras.models.Sequential()\n",
    "baseline.add(DefaultConv2D(filters=16, kernel_size=3, input_shape=input_shape))\n",
    "baseline.add(keras.layers.AveragePooling2D(pool_size=2))\n",
    "baseline.add(DefaultConv2D(filters=32))\n",
    "baseline.add(keras.layers.AveragePooling2D(pool_size=2))\n",
    "baseline.add(keras.layers.Flatten())\n",
    "baseline.add(keras.layers.Dense(300, activation=\"relu\"))\n",
    "baseline.add(keras.layers.Dense(100, activation=\"relu\"))\n",
    "baseline.add(keras.layers.Dense(10, activation=\"softmax\"))\n",
    "\n",
    "optimizer = keras.optimizers.Adam(learning_rate)\n",
    "\n",
    "baseline.compile(optimizer=optimizer, loss=tf.keras.losses.SparseCategoricalCrossentropy(from_logits=True), metrics=['accuracy'])\n",
    "\n",
    "#lr_scheduler = keras.callbacks.ReduceLROnPlateau(monitor='val_loss', factor=0.005, patience=2, min_lr=0.000001, verbose=1)\n",
    "\n",
    "lr_scheduler = keras.callbacks.LearningRateScheduler(piecewise_constant_fn)\n",
    "\n",
    "history = baseline.fit(train_images, train_labels, epochs=6, batch_size=32, validation_data=(X_valid, y_valid)) #, callbacks=[lr_scheduler]\n",
    "\n",
    "plot_history(history, 'Baseline model')\n",
    "\n",
    "#reg_baseline = keras.wrappers.scikit_learn.KerasRegressor(baseline)\n",
    "\n",
    "test_loss, test_acc = baseline.evaluate(test_images, test_labels, verbose=2)\n",
    "\n",
    "print('\\nbaseline accuracy, loss:', test_acc, test_loss)\n",
    "\n",
    "pred = baseline.predict(test_images)\n",
    "\n",
    "pred_arr = [np.argmax(i) for i in pred]\n",
    "\n",
    "print_metrics(\"Baseline model\", test_labels, pred_arr)"
   ]
  },
  {
   "cell_type": "code",
   "execution_count": null,
   "metadata": {},
   "outputs": [],
   "source": [
    "\n",
    "\n",
    "\n",
    "'''Variant 1 - DROPOUT'''\n",
    "variant_1 = keras.models.Sequential()\n",
    "variant_1.add(DefaultConv2D(filters=16, kernel_size=3, input_shape=input_shape))\n",
    "variant_1.add(keras.layers.AveragePooling2D(pool_size=2))\n",
    "variant_1.add(DefaultConv2D(filters=32))\n",
    "variant_1.add(keras.layers.Activation(keras.activations.relu))\n",
    "variant_1.add(keras.layers.AveragePooling2D(pool_size=2))\n",
    "variant_1.add(keras.layers.Flatten())\n",
    "variant_1.add(keras.layers.Dense(300, activation=\"relu\"))\n",
    "variant_1.add(keras.layers.Dropout(0.5))\n",
    "variant_1.add(keras.layers.Dense(100, activation=\"relu\"))\n",
    "variant_1.add(keras.layers.Dropout(0.5))\n",
    "variant_1.add(keras.layers.Dense(10, activation=\"softmax\"))\n",
    "\n",
    "optimizer = keras.optimizers.Adam(learning_rate)\n",
    "\n",
    "variant_1.compile(optimizer=optimizer, loss=tf.keras.losses.SparseCategoricalCrossentropy(from_logits=True), metrics=['accuracy'])\n",
    "\n",
    "history = variant_1.fit(X_train, y_train, epochs=10, batch_size=32, validation_data=(X_valid, y_valid))\n",
    "\n",
    "plot_history(history, 'Variant 1 - DROPOUT')\n",
    "\n",
    "test_loss, test_acc = variant_1.evaluate(test_images, test_labels, verbose=2)\n",
    "\n",
    "print('\\nvariant_1 accuracy, loss:', test_acc, test_loss)\n",
    "\n",
    "pred = variant_1.predict(test_images)\n",
    "\n",
    "pred_arr = [np.argmax(i) for i in pred]\n",
    "\n",
    "print_metrics(\"variant_1 model\", test_labels, pred_arr)\n"
   ]
  },
  {
   "cell_type": "code",
   "execution_count": null,
   "metadata": {},
   "outputs": [],
   "source": [
    "xAugRotate, xAugwShift, xAugwFlip ,XAugRotate ,XAugwShift,XAugwFlip"
   ]
  },
  {
   "cell_type": "code",
   "execution_count": 185,
   "metadata": {},
   "outputs": [],
   "source": [
    "augmentTrain = np.concatenate((xAugRotate, xAugwShift,xAugwFlip), axis = 0)"
   ]
  },
  {
   "cell_type": "code",
   "execution_count": 8,
   "metadata": {},
   "outputs": [
    {
     "data": {
      "text/plain": [
       "1687.5"
      ]
     },
     "execution_count": 8,
     "metadata": {},
     "output_type": "execute_result"
    }
   ],
   "source": [
    "len(train_images) / 32 "
   ]
  },
  {
   "cell_type": "code",
   "execution_count": null,
   "metadata": {},
   "outputs": [],
   "source": [
    "epochs = 10\n",
    "datagen = tf.keras.preprocessing.image.ImageDataGenerator(\n",
    "    rotation_range=20,\n",
    "    width_shift_range=0.2,\n",
    "    height_shift_range=0.2)\n",
    "# compute quantities required for featurewise normalization\n",
    "# (std, mean, and principal components if ZCA whitening is applied)\n",
    "datagen.fit(train_images)"
   ]
  },
  {
   "cell_type": "code",
   "execution_count": 79,
   "metadata": {},
   "outputs": [],
   "source": [
    "epochs = 10\n",
    "datagen = tf.keras.preprocessing.image.ImageDataGenerator(\n",
    "    rotation_range=20,\n",
    "    width_shift_range=0.2,\n",
    "    height_shift_range=0.2\n",
    "    validation_split=0.1,  horizontal_flip=True\n",
    "    )  #\n",
    "# compute quantities required for featurewise normalization\n",
    "# (std, mean, and principal components if ZCA whitening is applied)\n",
    "datagen.fit(train_images)\n",
    "# fits the model on batches with real-time data augmentation:\n",
    "\n",
    "\n"
   ]
  },
  {
   "cell_type": "code",
   "execution_count": 80,
   "metadata": {},
   "outputs": [
    {
     "name": "stdout",
     "output_type": "stream",
     "text": [
      "Epoch 1/10\n"
     ]
    },
    {
     "name": "stderr",
     "output_type": "stream",
     "text": [
      "D:\\Anaconda_2\\envs\\tf2.4\\lib\\site-packages\\tensorflow\\python\\util\\dispatch.py:1082: UserWarning: \"`sparse_categorical_crossentropy` received `from_logits=True`, but the `output` argument was produced by a sigmoid or softmax activation and thus does not represent logits. Was this intended?\"\n",
      "  return dispatch_target(*args, **kwargs)\n"
     ]
    },
    {
     "name": "stdout",
     "output_type": "stream",
     "text": [
      "1687/1687 [==============================] - 24s 13ms/step - loss: 0.8940 - accuracy: 0.6661 - val_loss: 0.8643 - val_accuracy: 0.6770\n",
      "Epoch 2/10\n",
      "1687/1687 [==============================] - 22s 13ms/step - loss: 0.7159 - accuracy: 0.7308 - val_loss: 0.9001 - val_accuracy: 0.6846\n",
      "Epoch 3/10\n",
      "1687/1687 [==============================] - 21s 13ms/step - loss: 0.6707 - accuracy: 0.7483 - val_loss: 1.2084 - val_accuracy: 0.5857\n",
      "Epoch 4/10\n",
      "1687/1687 [==============================] - 21s 13ms/step - loss: 0.6240 - accuracy: 0.7688 - val_loss: 0.8498 - val_accuracy: 0.7020\n",
      "Epoch 5/10\n",
      "1687/1687 [==============================] - 22s 13ms/step - loss: 0.6069 - accuracy: 0.7732 - val_loss: 0.6964 - val_accuracy: 0.7472\n",
      "Epoch 6/10\n",
      "1687/1687 [==============================] - 22s 13ms/step - loss: 0.5776 - accuracy: 0.7854 - val_loss: 0.5384 - val_accuracy: 0.7930\n",
      "Epoch 7/10\n",
      "1687/1687 [==============================] - 23s 13ms/step - loss: 0.5633 - accuracy: 0.7891 - val_loss: 0.5666 - val_accuracy: 0.7896\n",
      "Epoch 8/10\n",
      "1687/1687 [==============================] - 22s 13ms/step - loss: 0.5552 - accuracy: 0.7921 - val_loss: 0.7002 - val_accuracy: 0.7483\n",
      "Epoch 9/10\n",
      "1687/1687 [==============================] - 22s 13ms/step - loss: 0.5410 - accuracy: 0.7967 - val_loss: 0.8767 - val_accuracy: 0.6781\n",
      "Epoch 10/10\n",
      "1687/1687 [==============================] - 21s 13ms/step - loss: 0.5293 - accuracy: 0.8033 - val_loss: 0.6372 - val_accuracy: 0.7567\n"
     ]
    },
    {
     "data": {
      "image/png": "[encoded data removed]",
      "text/plain": [
       "<Figure size 576x360 with 1 Axes>"
      ]
     },
     "metadata": {
      "needs_background": "light"
     },
     "output_type": "display_data"
    },
    {
     "name": "stderr",
     "output_type": "stream",
     "text": [
      "D:\\Anaconda_2\\envs\\tf2.4\\lib\\site-packages\\tensorflow\\python\\util\\dispatch.py:1082: UserWarning: \"`sparse_categorical_crossentropy` received `from_logits=True`, but the `output` argument was produced by a sigmoid or softmax activation and thus does not represent logits. Was this intended?\"\n",
      "  return dispatch_target(*args, **kwargs)\n"
     ]
    },
    {
     "name": "stdout",
     "output_type": "stream",
     "text": [
      "313/313 - 2s - loss: 0.5244 - accuracy: 0.7996 - 2s/epoch - 6ms/step\n",
      "\n",
      "variant_2 accuracy, loss: 0.7996000051498413 0.5243576765060425\n",
      "---------------\n",
      "Results from: variant_2 model\n",
      "- Confusion Matrix:\n",
      " [[814   4   1  44   6   1 119   0  10   1]\n",
      " [  1 984   0  11   1   0   2   0   1   0]\n",
      " [ 17   3 543   5  39   0 392   0   1   0]\n",
      " [ 26  32   0 804  73   0  63   0   2   0]\n",
      " [  4   5  69  28 511   0 381   0   2   0]\n",
      " [  0   1   0   3   0 856   3 124   0  13]\n",
      " [201   2  40  35  49   0 668   0   4   1]\n",
      " [  0   0   0   0   0   4   0 978   0  18]\n",
      " [ 22   3   0   3   2   0  50   4 916   0]\n",
      " [  0   1   0   3   0   5   0  68   1 922]]\n",
      "---------------\n"
     ]
    }
   ],
   "source": [
    "\n",
    "\n",
    "# train_labels = tf.keras.utils.to_categorical(train_labels)\n",
    "# test_labels = tf.keras.utils.to_categorical(test_labels)\n",
    "epochs = 10\n",
    "datagen = tf.keras.preprocessing.image.ImageDataGenerator(\n",
    "    rotation_range=20,\n",
    "    width_shift_range=0.2,\n",
    "    height_shift_range=0.2\n",
    "    validation_split=0.1,  horizontal_flip=True\n",
    "    )  #\n",
    "# compute quantities required for featurewise normalization\n",
    "# (std, mean, and principal components if ZCA whitening is applied)\n",
    "datagen.fit(train_images)\n",
    "\n",
    "'''Variant 2 - BatchNormalization'''\n",
    "\n",
    "variant_2 = keras.models.Sequential()\n",
    "variant_2.add(DefaultConv2D(filters=16, kernel_size=3, input_shape=input_shape))\n",
    "variant_2.add(keras.layers.BatchNormalization())\n",
    "variant_2.add(keras.layers.AveragePooling2D(pool_size=2))\n",
    "variant_2.add(DefaultConv2D(filters=32))\n",
    "variant_2.add(keras.layers.BatchNormalization())\n",
    "variant_2.add(keras.layers.AveragePooling2D(pool_size=2))\n",
    "variant_2.add(keras.layers.Flatten())\n",
    "variant_2.add(keras.layers.BatchNormalization())\n",
    "variant_2.add(keras.layers.Dense(300, activation=\"relu\"))\n",
    "variant_2.add(keras.layers.BatchNormalization())\n",
    "variant_2.add(keras.layers.Dense(100, activation=\"relu\"))\n",
    "variant_2.add(keras.layers.BatchNormalization())\n",
    "variant_2.add(keras.layers.Dense(10, activation=\"softmax\"))\n",
    "\n",
    "optimizer = keras.optimizers.Adam(learning_rate)\n",
    "\n",
    "variant_2.compile(optimizer=optimizer, loss=tf.keras.losses.SparseCategoricalCrossentropy(from_logits=True), metrics=['accuracy'])\n",
    "\n",
    "history = variant_2.fit(datagen.flow(train_images, train_labels, batch_size=28,\n",
    "         subset='training'),\n",
    "         validation_data=datagen.flow(train_images, train_labels,\n",
    "         batch_size=28, subset='validation'),\n",
    "         steps_per_epoch=len(train_images) / 32, epochs=epochs)\n",
    "\n",
    "plot_history(history, 'Variant 2 - BatchNormalization')\n",
    "\n",
    "test_loss, test_acc = variant_2.evaluate(test_images, test_labels, verbose=2)\n",
    "\n",
    "print('\\nvariant_2 accuracy, loss:', test_acc, test_loss)\n",
    "\n",
    "pred = variant_2.predict(test_images)\n",
    "\n",
    "pred_arr = [np.argmax(i) for i in pred]\n",
    "\n",
    "print_metrics(\"variant_2 model\", test_labels, pred_arr)\n"
   ]
  },
  {
   "cell_type": "code",
   "execution_count": null,
   "metadata": {},
   "outputs": [],
   "source": [
    "from keras.models import Sequential, Model\n",
    "from keras.layers import Conv2D, MaxPooling2D, AveragePooling2D, Lambda, Input, Dense, Dropout, Flatten\n",
    "from keras.layers.advanced_activations import LeakyReLU,ThresholdedReLU\n",
    "# from keras.layers.normalization import BatchNormalization\n",
    "from keras.preprocessing.image import ImageDataGenerator\n",
    "# from keras.optimizers import Adam,Nadam,Adamax,TFOptimizer\n",
    "\n",
    "# Model Parameters\n",
    "batch_size = 256\n",
    "num_classes = test_images.shape[1]\n",
    "epochs = 10\n",
    "img_rows, img_cols = 28, 28\n",
    "input_shape = (img_rows, img_cols, 1)\n",
    "\n",
    "\n",
    "# Parameter for Image Data Augumentation\n",
    "shift_fraction=0.005\n",
    "\n",
    "# Create Model\n",
    "fashion_model = Sequential()\n",
    "fashion_model.add(Conv2D(32,kernel_size=(3, 3),activation='linear',input_shape=input_shape,padding='same'))\n",
    "fashion_model.add(LeakyReLU(alpha=0.1))\n",
    "fashion_model.add(MaxPooling2D((2, 2),padding='same'))\n",
    "fashion_model.add(Dropout(0.5))\n",
    "fashion_model.add(Conv2D(64,(3, 3),activation='linear',padding='same'))\n",
    "fashion_model.add(LeakyReLU(alpha=0.1))\n",
    "fashion_model.add(MaxPooling2D(pool_size=(2, 2),padding='same'))\n",
    "fashion_model.add(Dropout(0.5))\n",
    "fashion_model.add(Conv2D(128,(3, 3),activation='linear',padding='same'))\n",
    "fashion_model.add(LeakyReLU(alpha=0.1))\n",
    "fashion_model.add(Dropout(0.5))\n",
    "fashion_model.add(MaxPooling2D(pool_size=(2,2),padding='same'))\n",
    "fashion_model.add(Flatten())\n",
    "fashion_model.add(Dense(128,activation='linear'))\n",
    "fashion_model.add(LeakyReLU(alpha=0.1))\n",
    "fashion_model.add(Dense(num_classes,activation='softmax'))\n",
    "fashion_model.compile(loss=keras.losses.categorical_crossentropy,optimizer=keras.optimizers.Adam(),metrics=['accuracy'])\n",
    "#fashion_model.summary()\n",
    "\n",
    "gen = ImageDataGenerator(width_shift_range=shift_fraction,height_shift_range=shift_fraction,horizontal_flip=True)\n",
    "batches = gen.flow(train_images, train_labels, batch_size=batch_size)\n",
    "val_batches = gen.flow(X_valid, y_valid, batch_size=batch_size)\n",
    "\n",
    "fashion_train=fashion_model.fit_generator(batches, steps_per_epoch=train_images.shape[0]//batch_size, epochs=epochs,validation_data=val_batches, \n",
    "                                                   validation_steps=X_valid.shape[0]//batch_size, use_multiprocessing=True)  "
   ]
  },
  {
   "cell_type": "code",
   "execution_count": 29,
   "metadata": {},
   "outputs": [],
   "source": []
  },
  {
   "cell_type": "code",
   "execution_count": 30,
   "metadata": {},
   "outputs": [
    {
     "data": {
      "text/plain": [
       "(32, 28, 28, 1)"
      ]
     },
     "execution_count": 30,
     "metadata": {},
     "output_type": "execute_result"
    }
   ],
   "source": [
    "out[0].shape"
   ]
  },
  {
   "cell_type": "code",
   "execution_count": 22,
   "metadata": {},
   "outputs": [
    {
     "name": "stdout",
     "output_type": "stream",
     "text": [
      "Epoch 1/10\n"
     ]
    },
    {
     "name": "stderr",
     "output_type": "stream",
     "text": [
      "D:\\Anaconda_2\\envs\\tf2.4\\lib\\site-packages\\tensorflow\\python\\util\\dispatch.py:1082: UserWarning: \"`sparse_categorical_crossentropy` received `from_logits=True`, but the `output` argument was produced by a sigmoid or softmax activation and thus does not represent logits. Was this intended?\"\n",
      "  return dispatch_target(*args, **kwargs)\n"
     ]
    },
    {
     "name": "stdout",
     "output_type": "stream",
     "text": [
      "1500/1500 [==============================] - 22s 14ms/step - loss: 0.9095 - accuracy: 0.6617 - val_loss: 1.1894 - val_accuracy: 0.5676\n",
      "Epoch 2/10\n",
      "1500/1500 [==============================] - 24s 16ms/step - loss: 0.7334 - accuracy: 0.7265 - val_loss: 0.7323 - val_accuracy: 0.7299\n",
      "Epoch 3/10\n",
      "1500/1500 [==============================] - 25s 17ms/step - loss: 0.6613 - accuracy: 0.7530 - val_loss: 0.7369 - val_accuracy: 0.7280\n",
      "Epoch 4/10\n",
      "1500/1500 [==============================] - 26s 17ms/step - loss: 0.6188 - accuracy: 0.7676 - val_loss: 0.7508 - val_accuracy: 0.7140\n",
      "Epoch 5/10\n",
      "1500/1500 [==============================] - 26s 17ms/step - loss: 0.5960 - accuracy: 0.7781 - val_loss: 0.9345 - val_accuracy: 0.6689\n",
      "Epoch 6/10\n",
      "1500/1500 [==============================] - 23s 15ms/step - loss: 0.5845 - accuracy: 0.7823 - val_loss: 0.6060 - val_accuracy: 0.7795\n",
      "Epoch 7/10\n",
      "1500/1500 [==============================] - 23s 15ms/step - loss: 0.5603 - accuracy: 0.7907 - val_loss: 0.9168 - val_accuracy: 0.7084\n",
      "Epoch 8/10\n",
      "1500/1500 [==============================] - 23s 15ms/step - loss: 0.5433 - accuracy: 0.7989 - val_loss: 0.6426 - val_accuracy: 0.7681\n",
      "Epoch 9/10\n",
      "1500/1500 [==============================] - 25s 17ms/step - loss: 0.5290 - accuracy: 0.8039 - val_loss: 0.8079 - val_accuracy: 0.7063\n",
      "Epoch 10/10\n",
      "1500/1500 [==============================] - 25s 17ms/step - loss: 0.5278 - accuracy: 0.8026 - val_loss: 0.9517 - val_accuracy: 0.6545\n"
     ]
    },
    {
     "data": {
      "image/png": "[encoded data removed]",
      "text/plain": [
       "<Figure size 576x360 with 1 Axes>"
      ]
     },
     "metadata": {
      "needs_background": "light"
     },
     "output_type": "display_data"
    },
    {
     "name": "stderr",
     "output_type": "stream",
     "text": [
      "D:\\Anaconda_2\\envs\\tf2.4\\lib\\site-packages\\tensorflow\\python\\util\\dispatch.py:1082: UserWarning: \"`sparse_categorical_crossentropy` received `from_logits=True`, but the `output` argument was produced by a sigmoid or softmax activation and thus does not represent logits. Was this intended?\"\n",
      "  return dispatch_target(*args, **kwargs)\n"
     ]
    },
    {
     "name": "stdout",
     "output_type": "stream",
     "text": [
      "313/313 - 2s - loss: 3.7105 - accuracy: 0.1549 - 2s/epoch - 6ms/step\n",
      "\n",
      "variant_2 accuracy, loss: 0.15489999949932098 3.710484743118286\n",
      "---------------\n",
      "Results from: variant_2 model\n",
      "- Confusion Matrix:\n",
      " [[ 733    0    0    0    0    0    0    0  267    0]\n",
      " [ 402    2    0    0    0    0    0    0  596    0]\n",
      " [ 855    0   90    0    0    0    3    0   52    0]\n",
      " [ 367    0    0    0    0    0    0    0  633    0]\n",
      " [ 773    0   81    0    0    0   15    0  131    0]\n",
      " [  34    0    0    0    0    0    0    0  966    0]\n",
      " [ 807    0    9    0    0    0    9    0  175    0]\n",
      " [   0    0    0    0    0    0    0    0 1000    0]\n",
      " [ 285    0    0    0    0    0    0    0  715    0]\n",
      " [   1    0    0    0    0    0    0    0  999    0]]\n",
      "---------------\n"
     ]
    }
   ],
   "source": []
  },
  {
   "cell_type": "code",
   "execution_count": 78,
   "metadata": {},
   "outputs": [
    {
     "name": "stdout",
     "output_type": "stream",
     "text": [
      "Epoch 1/10\n"
     ]
    },
    {
     "name": "stderr",
     "output_type": "stream",
     "text": [
      "D:\\Anaconda_2\\envs\\tf2.4\\lib\\site-packages\\tensorflow\\python\\util\\dispatch.py:1082: UserWarning: \"`sparse_categorical_crossentropy` received `from_logits=True`, but the `output` argument was produced by a sigmoid or softmax activation and thus does not represent logits. Was this intended?\"\n",
      "  return dispatch_target(*args, **kwargs)\n"
     ]
    },
    {
     "name": "stdout",
     "output_type": "stream",
     "text": [
      "1687/1687 [==============================] - 18s 10ms/step - loss: 0.8296 - accuracy: 0.6770 - val_loss: 0.6971 - val_accuracy: 0.7348\n",
      "Epoch 2/10\n",
      "1687/1687 [==============================] - 17s 10ms/step - loss: 0.6705 - accuracy: 0.7434 - val_loss: 0.6302 - val_accuracy: 0.7557\n",
      "Epoch 3/10\n",
      "1687/1687 [==============================] - 18s 11ms/step - loss: 0.6501 - accuracy: 0.7512 - val_loss: 0.6726 - val_accuracy: 0.7356\n",
      "Epoch 4/10\n",
      "1687/1687 [==============================] - 17s 10ms/step - loss: 0.6236 - accuracy: 0.7602 - val_loss: 0.6220 - val_accuracy: 0.7589\n",
      "Epoch 5/10\n",
      "1687/1687 [==============================] - 19s 11ms/step - loss: 0.6099 - accuracy: 0.7677 - val_loss: 0.6059 - val_accuracy: 0.7665\n",
      "Epoch 6/10\n",
      "1687/1687 [==============================] - 18s 11ms/step - loss: 0.6009 - accuracy: 0.7737 - val_loss: 0.6188 - val_accuracy: 0.7674\n",
      "Epoch 7/10\n",
      "1687/1687 [==============================] - 18s 11ms/step - loss: 0.5959 - accuracy: 0.7757 - val_loss: 0.5790 - val_accuracy: 0.7861\n",
      "Epoch 8/10\n",
      "1687/1687 [==============================] - 19s 11ms/step - loss: 0.5844 - accuracy: 0.7800 - val_loss: 0.5672 - val_accuracy: 0.7826\n",
      "Epoch 9/10\n",
      "1687/1687 [==============================] - 19s 11ms/step - loss: 0.5804 - accuracy: 0.7842 - val_loss: 0.5819 - val_accuracy: 0.7809\n",
      "Epoch 10/10\n",
      "1687/1687 [==============================] - 18s 11ms/step - loss: 0.5718 - accuracy: 0.7870 - val_loss: 0.5445 - val_accuracy: 0.7980\n"
     ]
    },
    {
     "data": {
      "image/png": "[encoded data removed]",
      "text/plain": [
       "<Figure size 576x360 with 1 Axes>"
      ]
     },
     "metadata": {
      "needs_background": "light"
     },
     "output_type": "display_data"
    },
    {
     "name": "stderr",
     "output_type": "stream",
     "text": [
      "D:\\Anaconda_2\\envs\\tf2.4\\lib\\site-packages\\tensorflow\\python\\util\\dispatch.py:1082: UserWarning: \"`sparse_categorical_crossentropy` received `from_logits=True`, but the `output` argument was produced by a sigmoid or softmax activation and thus does not represent logits. Was this intended?\"\n",
      "  return dispatch_target(*args, **kwargs)\n"
     ]
    },
    {
     "name": "stdout",
     "output_type": "stream",
     "text": [
      "313/313 - 2s - loss: 0.5239 - accuracy: 0.8127 - 2s/epoch - 5ms/step\n",
      "\n",
      "variant_3 accuracy, loss: 0.8126999735832214 0.5238815546035767\n",
      "---------------\n",
      "Results from: variant_3 model\n",
      "- Confusion Matrix:\n",
      " [[774  11  13  92   8   2  74   0  26   0]\n",
      " [  1 981   0   8   6   0   3   0   1   0]\n",
      " [ 12   7 699  10 161   0  98   0  13   0]\n",
      " [ 17  75   3 797  62   2  38   0   4   2]\n",
      " [  0   5 191  36 690   0  72   0   6   0]\n",
      " [  0   0   0   0   0 965   0  13   3  19]\n",
      " [197  18 164  52 115   0 417   0  36   1]\n",
      " [  0   0   0   0   0  81   0 896   1  22]\n",
      " [  1   2   4   2   4   8   3   2 973   1]\n",
      " [  0   0   0   0   0   9   0  54   2 935]]\n",
      "---------------\n"
     ]
    }
   ],
   "source": [
    "\n",
    "'''Variant 3 - with 0 padding'''\n",
    "DefaultConv2D_Padding = partial(keras.layers.Conv2D, kernel_size=3, activation='relu', padding=\"SAME\")\n",
    "\n",
    "variant_3 = keras.models.Sequential()\n",
    "variant_3.add(DefaultConv2D_Padding(filters=16, kernel_size=3, input_shape=input_shape))\n",
    "variant_3.add(keras.layers.AveragePooling2D(pool_size=2))\n",
    "variant_3.add(DefaultConv2D_Padding(filters=32))\n",
    "variant_3.add(keras.layers.AveragePooling2D(pool_size=2))\n",
    "variant_3.add(keras.layers.Flatten())\n",
    "variant_3.add(keras.layers.Dense(300, activation=\"relu\"))\n",
    "variant_3.add(keras.layers.Dense(100, activation=\"relu\"))\n",
    "variant_3.add(keras.layers.Dense(10, activation=\"softmax\"))\n",
    "\n",
    "optimizer = keras.optimizers.Adam(learning_rate)\n",
    "\n",
    "variant_3.compile(optimizer=optimizer, loss=tf.keras.losses.SparseCategoricalCrossentropy(from_logits=True), metrics=['accuracy'])\n",
    "\n",
    "history = variant_3.fit(datagen.flow(train_images, train_labels, batch_size=28,\n",
    "         subset='training'),\n",
    "         validation_data=datagen.flow(train_images, train_labels,\n",
    "         batch_size=28, subset='validation'),\n",
    "         steps_per_epoch=len(train_images) / 32, epochs=epochs)\n",
    "\n",
    "plot_history(history, 'Variant 3 - with 0 padding')\n",
    "\n",
    "test_loss, test_acc = variant_3.evaluate(test_images, test_labels, verbose=2)\n",
    "\n",
    "print('\\nvariant_3 accuracy, loss:', test_acc, test_loss)\n",
    "\n",
    "pred = variant_3.predict(test_images)\n",
    "\n",
    "pred_arr = [np.argmax(i) for i in pred]\n",
    "\n",
    "print_metrics(\"variant_3 model\", test_labels, pred_arr)\n"
   ]
  },
  {
   "cell_type": "code",
   "execution_count": 2,
   "metadata": {},
   "outputs": [
    {
     "name": "stdout",
     "output_type": "stream",
     "text": [
      "(10000, 784)\n",
      "x_train.shape: (54000, 28, 28)\n",
      "y_train.shape: (54000,)\n",
      "x_test.shape: (10000, 28, 28)\n",
      "y_test.shape: (10000,)\n",
      "X_valid: (6000, 28, 28)\n",
      "y_valid: (6000,)\n",
      "(54000, 28, 28)\n",
      "Epoch 1/10\n"
     ]
    },
    {
     "name": "stderr",
     "output_type": "stream",
     "text": [
      "D:\\Anaconda_2\\envs\\tf2.4\\lib\\site-packages\\tensorflow\\python\\util\\dispatch.py:1082: UserWarning: \"`sparse_categorical_crossentropy` received `from_logits=True`, but the `output` argument was produced by a sigmoid or softmax activation and thus does not represent logits. Was this intended?\"\n",
      "  return dispatch_target(*args, **kwargs)\n"
     ]
    },
    {
     "name": "stdout",
     "output_type": "stream",
     "text": [
      "1688/1688 [==============================] - 20s 10ms/step - loss: 0.5290 - accuracy: 0.8024 - val_loss: 0.3942 - val_accuracy: 0.8537\n",
      "Epoch 2/10\n",
      "1688/1688 [==============================] - 16s 10ms/step - loss: 0.3534 - accuracy: 0.8704 - val_loss: 0.3262 - val_accuracy: 0.8770\n",
      "Epoch 3/10\n",
      "1688/1688 [==============================] - 15s 9ms/step - loss: 0.3023 - accuracy: 0.8879 - val_loss: 0.2680 - val_accuracy: 0.8992\n",
      "Epoch 4/10\n",
      "1688/1688 [==============================] - 18s 11ms/step - loss: 0.2714 - accuracy: 0.8994 - val_loss: 0.2653 - val_accuracy: 0.9040\n",
      "Epoch 5/10\n",
      "1688/1688 [==============================] - 17s 10ms/step - loss: 0.2460 - accuracy: 0.9072 - val_loss: 0.2650 - val_accuracy: 0.9007\n",
      "Epoch 6/10\n",
      "1413/1688 [========================>.....] - ETA: 2s - loss: 0.2247 - accuracy: 0.9147"
     ]
    },
    {
     "ename": "KeyboardInterrupt",
     "evalue": "",
     "output_type": "error",
     "traceback": [
      "\u001b[1;31m---------------------------------------------------------------------------\u001b[0m",
      "\u001b[1;31mKeyboardInterrupt\u001b[0m                         Traceback (most recent call last)",
      "\u001b[1;32mUntitled-1.ipynb Cell 4'\u001b[0m in \u001b[0;36m<cell line: 129>\u001b[1;34m()\u001b[0m\n\u001b[0;32m    <a href='vscode-notebook-cell:Untitled-1.ipynb?jupyter-notebook#ch0000001untitled?line=187'>188</a>\u001b[0m \u001b[39m#lr_scheduler = keras.callbacks.ReduceLROnPlateau(monitor='val_loss', factor=0.005, patience=2, min_lr=0.000001, verbose=1)\u001b[39;00m\n\u001b[0;32m    <a href='vscode-notebook-cell:Untitled-1.ipynb?jupyter-notebook#ch0000001untitled?line=189'>190</a>\u001b[0m lr_scheduler \u001b[39m=\u001b[39m keras\u001b[39m.\u001b[39mcallbacks\u001b[39m.\u001b[39mLearningRateScheduler(piecewise_constant_fn)\n\u001b[1;32m--> <a href='vscode-notebook-cell:Untitled-1.ipynb?jupyter-notebook#ch0000001untitled?line=191'>192</a>\u001b[0m history \u001b[39m=\u001b[39m baseline\u001b[39m.\u001b[39;49mfit(x_train, y_train, epochs\u001b[39m=\u001b[39;49m\u001b[39m10\u001b[39;49m, batch_size\u001b[39m=\u001b[39;49m\u001b[39m32\u001b[39;49m, validation_data\u001b[39m=\u001b[39;49m(X_valid, y_valid)) \u001b[39m#, callbacks=[lr_scheduler]\u001b[39;00m\n\u001b[0;32m    <a href='vscode-notebook-cell:Untitled-1.ipynb?jupyter-notebook#ch0000001untitled?line=193'>194</a>\u001b[0m plot_history(history, \u001b[39m'\u001b[39m\u001b[39mBaseline model\u001b[39m\u001b[39m'\u001b[39m)\n\u001b[0;32m    <a href='vscode-notebook-cell:Untitled-1.ipynb?jupyter-notebook#ch0000001untitled?line=195'>196</a>\u001b[0m \u001b[39m#reg_baseline = keras.wrappers.scikit_learn.KerasRegressor(baseline)\u001b[39;00m\n",
      "File \u001b[1;32mD:\\Anaconda_2\\envs\\tf2.4\\lib\\site-packages\\keras\\utils\\traceback_utils.py:64\u001b[0m, in \u001b[0;36mfilter_traceback.<locals>.error_handler\u001b[1;34m(*args, **kwargs)\u001b[0m\n\u001b[0;32m     <a href='file:///d%3A/Anaconda_2/envs/tf2.4/lib/site-packages/keras/utils/traceback_utils.py?line=61'>62</a>\u001b[0m filtered_tb \u001b[39m=\u001b[39m \u001b[39mNone\u001b[39;00m\n\u001b[0;32m     <a href='file:///d%3A/Anaconda_2/envs/tf2.4/lib/site-packages/keras/utils/traceback_utils.py?line=62'>63</a>\u001b[0m \u001b[39mtry\u001b[39;00m:\n\u001b[1;32m---> <a href='file:///d%3A/Anaconda_2/envs/tf2.4/lib/site-packages/keras/utils/traceback_utils.py?line=63'>64</a>\u001b[0m   \u001b[39mreturn\u001b[39;00m fn(\u001b[39m*\u001b[39;49margs, \u001b[39m*\u001b[39;49m\u001b[39m*\u001b[39;49mkwargs)\n\u001b[0;32m     <a href='file:///d%3A/Anaconda_2/envs/tf2.4/lib/site-packages/keras/utils/traceback_utils.py?line=64'>65</a>\u001b[0m \u001b[39mexcept\u001b[39;00m \u001b[39mException\u001b[39;00m \u001b[39mas\u001b[39;00m e:  \u001b[39m# pylint: disable=broad-except\u001b[39;00m\n\u001b[0;32m     <a href='file:///d%3A/Anaconda_2/envs/tf2.4/lib/site-packages/keras/utils/traceback_utils.py?line=65'>66</a>\u001b[0m   filtered_tb \u001b[39m=\u001b[39m _process_traceback_frames(e\u001b[39m.\u001b[39m__traceback__)\n",
      "File \u001b[1;32mD:\\Anaconda_2\\envs\\tf2.4\\lib\\site-packages\\keras\\engine\\training.py:1389\u001b[0m, in \u001b[0;36mModel.fit\u001b[1;34m(self, x, y, batch_size, epochs, verbose, callbacks, validation_split, validation_data, shuffle, class_weight, sample_weight, initial_epoch, steps_per_epoch, validation_steps, validation_batch_size, validation_freq, max_queue_size, workers, use_multiprocessing)\u001b[0m\n\u001b[0;32m   <a href='file:///d%3A/Anaconda_2/envs/tf2.4/lib/site-packages/keras/engine/training.py?line=1386'>1387</a>\u001b[0m logs \u001b[39m=\u001b[39m tmp_logs  \u001b[39m# No error, now safe to assign to logs.\u001b[39;00m\n\u001b[0;32m   <a href='file:///d%3A/Anaconda_2/envs/tf2.4/lib/site-packages/keras/engine/training.py?line=1387'>1388</a>\u001b[0m end_step \u001b[39m=\u001b[39m step \u001b[39m+\u001b[39m data_handler\u001b[39m.\u001b[39mstep_increment\n\u001b[1;32m-> <a href='file:///d%3A/Anaconda_2/envs/tf2.4/lib/site-packages/keras/engine/training.py?line=1388'>1389</a>\u001b[0m callbacks\u001b[39m.\u001b[39;49mon_train_batch_end(end_step, logs)\n\u001b[0;32m   <a href='file:///d%3A/Anaconda_2/envs/tf2.4/lib/site-packages/keras/engine/training.py?line=1389'>1390</a>\u001b[0m \u001b[39mif\u001b[39;00m \u001b[39mself\u001b[39m\u001b[39m.\u001b[39mstop_training:\n\u001b[0;32m   <a href='file:///d%3A/Anaconda_2/envs/tf2.4/lib/site-packages/keras/engine/training.py?line=1390'>1391</a>\u001b[0m   \u001b[39mbreak\u001b[39;00m\n",
      "File \u001b[1;32mD:\\Anaconda_2\\envs\\tf2.4\\lib\\site-packages\\keras\\callbacks.py:438\u001b[0m, in \u001b[0;36mCallbackList.on_train_batch_end\u001b[1;34m(self, batch, logs)\u001b[0m\n\u001b[0;32m    <a href='file:///d%3A/Anaconda_2/envs/tf2.4/lib/site-packages/keras/callbacks.py?line=430'>431</a>\u001b[0m \u001b[39m\"\"\"Calls the `on_train_batch_end` methods of its callbacks.\u001b[39;00m\n\u001b[0;32m    <a href='file:///d%3A/Anaconda_2/envs/tf2.4/lib/site-packages/keras/callbacks.py?line=431'>432</a>\u001b[0m \n\u001b[0;32m    <a href='file:///d%3A/Anaconda_2/envs/tf2.4/lib/site-packages/keras/callbacks.py?line=432'>433</a>\u001b[0m \u001b[39mArgs:\u001b[39;00m\n\u001b[0;32m    <a href='file:///d%3A/Anaconda_2/envs/tf2.4/lib/site-packages/keras/callbacks.py?line=433'>434</a>\u001b[0m \u001b[39m    batch: Integer, index of batch within the current epoch.\u001b[39;00m\n\u001b[0;32m    <a href='file:///d%3A/Anaconda_2/envs/tf2.4/lib/site-packages/keras/callbacks.py?line=434'>435</a>\u001b[0m \u001b[39m    logs: Dict. Aggregated metric results up until this batch.\u001b[39;00m\n\u001b[0;32m    <a href='file:///d%3A/Anaconda_2/envs/tf2.4/lib/site-packages/keras/callbacks.py?line=435'>436</a>\u001b[0m \u001b[39m\"\"\"\u001b[39;00m\n\u001b[0;32m    <a href='file:///d%3A/Anaconda_2/envs/tf2.4/lib/site-packages/keras/callbacks.py?line=436'>437</a>\u001b[0m \u001b[39mif\u001b[39;00m \u001b[39mself\u001b[39m\u001b[39m.\u001b[39m_should_call_train_batch_hooks:\n\u001b[1;32m--> <a href='file:///d%3A/Anaconda_2/envs/tf2.4/lib/site-packages/keras/callbacks.py?line=437'>438</a>\u001b[0m   \u001b[39mself\u001b[39;49m\u001b[39m.\u001b[39;49m_call_batch_hook(ModeKeys\u001b[39m.\u001b[39;49mTRAIN, \u001b[39m'\u001b[39;49m\u001b[39mend\u001b[39;49m\u001b[39m'\u001b[39;49m, batch, logs\u001b[39m=\u001b[39;49mlogs)\n",
      "File \u001b[1;32mD:\\Anaconda_2\\envs\\tf2.4\\lib\\site-packages\\keras\\callbacks.py:297\u001b[0m, in \u001b[0;36mCallbackList._call_batch_hook\u001b[1;34m(self, mode, hook, batch, logs)\u001b[0m\n\u001b[0;32m    <a href='file:///d%3A/Anaconda_2/envs/tf2.4/lib/site-packages/keras/callbacks.py?line=294'>295</a>\u001b[0m   \u001b[39mself\u001b[39m\u001b[39m.\u001b[39m_call_batch_begin_hook(mode, batch, logs)\n\u001b[0;32m    <a href='file:///d%3A/Anaconda_2/envs/tf2.4/lib/site-packages/keras/callbacks.py?line=295'>296</a>\u001b[0m \u001b[39melif\u001b[39;00m hook \u001b[39m==\u001b[39m \u001b[39m'\u001b[39m\u001b[39mend\u001b[39m\u001b[39m'\u001b[39m:\n\u001b[1;32m--> <a href='file:///d%3A/Anaconda_2/envs/tf2.4/lib/site-packages/keras/callbacks.py?line=296'>297</a>\u001b[0m   \u001b[39mself\u001b[39;49m\u001b[39m.\u001b[39;49m_call_batch_end_hook(mode, batch, logs)\n\u001b[0;32m    <a href='file:///d%3A/Anaconda_2/envs/tf2.4/lib/site-packages/keras/callbacks.py?line=297'>298</a>\u001b[0m \u001b[39melse\u001b[39;00m:\n\u001b[0;32m    <a href='file:///d%3A/Anaconda_2/envs/tf2.4/lib/site-packages/keras/callbacks.py?line=298'>299</a>\u001b[0m   \u001b[39mraise\u001b[39;00m \u001b[39mValueError\u001b[39;00m(\n\u001b[0;32m    <a href='file:///d%3A/Anaconda_2/envs/tf2.4/lib/site-packages/keras/callbacks.py?line=299'>300</a>\u001b[0m       \u001b[39mf\u001b[39m\u001b[39m'\u001b[39m\u001b[39mUnrecognized hook: \u001b[39m\u001b[39m{\u001b[39;00mhook\u001b[39m}\u001b[39;00m\u001b[39m. Expected values are [\u001b[39m\u001b[39m\"\u001b[39m\u001b[39mbegin\u001b[39m\u001b[39m\"\u001b[39m\u001b[39m, \u001b[39m\u001b[39m\"\u001b[39m\u001b[39mend\u001b[39m\u001b[39m\"\u001b[39m\u001b[39m]\u001b[39m\u001b[39m'\u001b[39m)\n",
      "File \u001b[1;32mD:\\Anaconda_2\\envs\\tf2.4\\lib\\site-packages\\keras\\callbacks.py:318\u001b[0m, in \u001b[0;36mCallbackList._call_batch_end_hook\u001b[1;34m(self, mode, batch, logs)\u001b[0m\n\u001b[0;32m    <a href='file:///d%3A/Anaconda_2/envs/tf2.4/lib/site-packages/keras/callbacks.py?line=314'>315</a>\u001b[0m   batch_time \u001b[39m=\u001b[39m time\u001b[39m.\u001b[39mtime() \u001b[39m-\u001b[39m \u001b[39mself\u001b[39m\u001b[39m.\u001b[39m_batch_start_time\n\u001b[0;32m    <a href='file:///d%3A/Anaconda_2/envs/tf2.4/lib/site-packages/keras/callbacks.py?line=315'>316</a>\u001b[0m   \u001b[39mself\u001b[39m\u001b[39m.\u001b[39m_batch_times\u001b[39m.\u001b[39mappend(batch_time)\n\u001b[1;32m--> <a href='file:///d%3A/Anaconda_2/envs/tf2.4/lib/site-packages/keras/callbacks.py?line=317'>318</a>\u001b[0m \u001b[39mself\u001b[39;49m\u001b[39m.\u001b[39;49m_call_batch_hook_helper(hook_name, batch, logs)\n\u001b[0;32m    <a href='file:///d%3A/Anaconda_2/envs/tf2.4/lib/site-packages/keras/callbacks.py?line=319'>320</a>\u001b[0m \u001b[39mif\u001b[39;00m \u001b[39mlen\u001b[39m(\u001b[39mself\u001b[39m\u001b[39m.\u001b[39m_batch_times) \u001b[39m>\u001b[39m\u001b[39m=\u001b[39m \u001b[39mself\u001b[39m\u001b[39m.\u001b[39m_num_batches_for_timing_check:\n\u001b[0;32m    <a href='file:///d%3A/Anaconda_2/envs/tf2.4/lib/site-packages/keras/callbacks.py?line=320'>321</a>\u001b[0m   end_hook_name \u001b[39m=\u001b[39m hook_name\n",
      "File \u001b[1;32mD:\\Anaconda_2\\envs\\tf2.4\\lib\\site-packages\\keras\\callbacks.py:356\u001b[0m, in \u001b[0;36mCallbackList._call_batch_hook_helper\u001b[1;34m(self, hook_name, batch, logs)\u001b[0m\n\u001b[0;32m    <a href='file:///d%3A/Anaconda_2/envs/tf2.4/lib/site-packages/keras/callbacks.py?line=353'>354</a>\u001b[0m \u001b[39mfor\u001b[39;00m callback \u001b[39min\u001b[39;00m \u001b[39mself\u001b[39m\u001b[39m.\u001b[39mcallbacks:\n\u001b[0;32m    <a href='file:///d%3A/Anaconda_2/envs/tf2.4/lib/site-packages/keras/callbacks.py?line=354'>355</a>\u001b[0m   hook \u001b[39m=\u001b[39m \u001b[39mgetattr\u001b[39m(callback, hook_name)\n\u001b[1;32m--> <a href='file:///d%3A/Anaconda_2/envs/tf2.4/lib/site-packages/keras/callbacks.py?line=355'>356</a>\u001b[0m   hook(batch, logs)\n\u001b[0;32m    <a href='file:///d%3A/Anaconda_2/envs/tf2.4/lib/site-packages/keras/callbacks.py?line=357'>358</a>\u001b[0m \u001b[39mif\u001b[39;00m \u001b[39mself\u001b[39m\u001b[39m.\u001b[39m_check_timing:\n\u001b[0;32m    <a href='file:///d%3A/Anaconda_2/envs/tf2.4/lib/site-packages/keras/callbacks.py?line=358'>359</a>\u001b[0m   \u001b[39mif\u001b[39;00m hook_name \u001b[39mnot\u001b[39;00m \u001b[39min\u001b[39;00m \u001b[39mself\u001b[39m\u001b[39m.\u001b[39m_hook_times:\n",
      "File \u001b[1;32mD:\\Anaconda_2\\envs\\tf2.4\\lib\\site-packages\\keras\\callbacks.py:1034\u001b[0m, in \u001b[0;36mProgbarLogger.on_train_batch_end\u001b[1;34m(self, batch, logs)\u001b[0m\n\u001b[0;32m   <a href='file:///d%3A/Anaconda_2/envs/tf2.4/lib/site-packages/keras/callbacks.py?line=1032'>1033</a>\u001b[0m \u001b[39mdef\u001b[39;00m \u001b[39mon_train_batch_end\u001b[39m(\u001b[39mself\u001b[39m, batch, logs\u001b[39m=\u001b[39m\u001b[39mNone\u001b[39;00m):\n\u001b[1;32m-> <a href='file:///d%3A/Anaconda_2/envs/tf2.4/lib/site-packages/keras/callbacks.py?line=1033'>1034</a>\u001b[0m   \u001b[39mself\u001b[39;49m\u001b[39m.\u001b[39;49m_batch_update_progbar(batch, logs)\n",
      "File \u001b[1;32mD:\\Anaconda_2\\envs\\tf2.4\\lib\\site-packages\\keras\\callbacks.py:1106\u001b[0m, in \u001b[0;36mProgbarLogger._batch_update_progbar\u001b[1;34m(self, batch, logs)\u001b[0m\n\u001b[0;32m   <a href='file:///d%3A/Anaconda_2/envs/tf2.4/lib/site-packages/keras/callbacks.py?line=1101'>1102</a>\u001b[0m   \u001b[39mself\u001b[39m\u001b[39m.\u001b[39mseen \u001b[39m+\u001b[39m\u001b[39m=\u001b[39m add_seen\n\u001b[0;32m   <a href='file:///d%3A/Anaconda_2/envs/tf2.4/lib/site-packages/keras/callbacks.py?line=1103'>1104</a>\u001b[0m \u001b[39mif\u001b[39;00m \u001b[39mself\u001b[39m\u001b[39m.\u001b[39mverbose \u001b[39m==\u001b[39m \u001b[39m1\u001b[39m:\n\u001b[0;32m   <a href='file:///d%3A/Anaconda_2/envs/tf2.4/lib/site-packages/keras/callbacks.py?line=1104'>1105</a>\u001b[0m   \u001b[39m# Only block async when verbose = 1.\u001b[39;00m\n\u001b[1;32m-> <a href='file:///d%3A/Anaconda_2/envs/tf2.4/lib/site-packages/keras/callbacks.py?line=1105'>1106</a>\u001b[0m   logs \u001b[39m=\u001b[39m tf_utils\u001b[39m.\u001b[39;49msync_to_numpy_or_python_type(logs)\n\u001b[0;32m   <a href='file:///d%3A/Anaconda_2/envs/tf2.4/lib/site-packages/keras/callbacks.py?line=1106'>1107</a>\u001b[0m   \u001b[39mself\u001b[39m\u001b[39m.\u001b[39mprogbar\u001b[39m.\u001b[39mupdate(\u001b[39mself\u001b[39m\u001b[39m.\u001b[39mseen, \u001b[39mlist\u001b[39m(logs\u001b[39m.\u001b[39mitems()), finalize\u001b[39m=\u001b[39m\u001b[39mFalse\u001b[39;00m)\n",
      "File \u001b[1;32mD:\\Anaconda_2\\envs\\tf2.4\\lib\\site-packages\\keras\\utils\\tf_utils.py:563\u001b[0m, in \u001b[0;36msync_to_numpy_or_python_type\u001b[1;34m(tensors)\u001b[0m\n\u001b[0;32m    <a href='file:///d%3A/Anaconda_2/envs/tf2.4/lib/site-packages/keras/utils/tf_utils.py?line=559'>560</a>\u001b[0m     \u001b[39mreturn\u001b[39;00m t\n\u001b[0;32m    <a href='file:///d%3A/Anaconda_2/envs/tf2.4/lib/site-packages/keras/utils/tf_utils.py?line=560'>561</a>\u001b[0m   \u001b[39mreturn\u001b[39;00m t\u001b[39m.\u001b[39mitem() \u001b[39mif\u001b[39;00m np\u001b[39m.\u001b[39mndim(t) \u001b[39m==\u001b[39m \u001b[39m0\u001b[39m \u001b[39melse\u001b[39;00m t\n\u001b[1;32m--> <a href='file:///d%3A/Anaconda_2/envs/tf2.4/lib/site-packages/keras/utils/tf_utils.py?line=562'>563</a>\u001b[0m \u001b[39mreturn\u001b[39;00m tf\u001b[39m.\u001b[39;49mnest\u001b[39m.\u001b[39;49mmap_structure(_to_single_numpy_or_python_type, tensors)\n",
      "File \u001b[1;32mD:\\Anaconda_2\\envs\\tf2.4\\lib\\site-packages\\tensorflow\\python\\util\\nest.py:914\u001b[0m, in \u001b[0;36mmap_structure\u001b[1;34m(func, *structure, **kwargs)\u001b[0m\n\u001b[0;32m    <a href='file:///d%3A/Anaconda_2/envs/tf2.4/lib/site-packages/tensorflow/python/util/nest.py?line=909'>910</a>\u001b[0m flat_structure \u001b[39m=\u001b[39m (flatten(s, expand_composites) \u001b[39mfor\u001b[39;00m s \u001b[39min\u001b[39;00m structure)\n\u001b[0;32m    <a href='file:///d%3A/Anaconda_2/envs/tf2.4/lib/site-packages/tensorflow/python/util/nest.py?line=910'>911</a>\u001b[0m entries \u001b[39m=\u001b[39m \u001b[39mzip\u001b[39m(\u001b[39m*\u001b[39mflat_structure)\n\u001b[0;32m    <a href='file:///d%3A/Anaconda_2/envs/tf2.4/lib/site-packages/tensorflow/python/util/nest.py?line=912'>913</a>\u001b[0m \u001b[39mreturn\u001b[39;00m pack_sequence_as(\n\u001b[1;32m--> <a href='file:///d%3A/Anaconda_2/envs/tf2.4/lib/site-packages/tensorflow/python/util/nest.py?line=913'>914</a>\u001b[0m     structure[\u001b[39m0\u001b[39m], [func(\u001b[39m*\u001b[39mx) \u001b[39mfor\u001b[39;00m x \u001b[39min\u001b[39;00m entries],\n\u001b[0;32m    <a href='file:///d%3A/Anaconda_2/envs/tf2.4/lib/site-packages/tensorflow/python/util/nest.py?line=914'>915</a>\u001b[0m     expand_composites\u001b[39m=\u001b[39mexpand_composites)\n",
      "File \u001b[1;32mD:\\Anaconda_2\\envs\\tf2.4\\lib\\site-packages\\tensorflow\\python\\util\\nest.py:914\u001b[0m, in \u001b[0;36m<listcomp>\u001b[1;34m(.0)\u001b[0m\n\u001b[0;32m    <a href='file:///d%3A/Anaconda_2/envs/tf2.4/lib/site-packages/tensorflow/python/util/nest.py?line=909'>910</a>\u001b[0m flat_structure \u001b[39m=\u001b[39m (flatten(s, expand_composites) \u001b[39mfor\u001b[39;00m s \u001b[39min\u001b[39;00m structure)\n\u001b[0;32m    <a href='file:///d%3A/Anaconda_2/envs/tf2.4/lib/site-packages/tensorflow/python/util/nest.py?line=910'>911</a>\u001b[0m entries \u001b[39m=\u001b[39m \u001b[39mzip\u001b[39m(\u001b[39m*\u001b[39mflat_structure)\n\u001b[0;32m    <a href='file:///d%3A/Anaconda_2/envs/tf2.4/lib/site-packages/tensorflow/python/util/nest.py?line=912'>913</a>\u001b[0m \u001b[39mreturn\u001b[39;00m pack_sequence_as(\n\u001b[1;32m--> <a href='file:///d%3A/Anaconda_2/envs/tf2.4/lib/site-packages/tensorflow/python/util/nest.py?line=913'>914</a>\u001b[0m     structure[\u001b[39m0\u001b[39m], [func(\u001b[39m*\u001b[39;49mx) \u001b[39mfor\u001b[39;00m x \u001b[39min\u001b[39;00m entries],\n\u001b[0;32m    <a href='file:///d%3A/Anaconda_2/envs/tf2.4/lib/site-packages/tensorflow/python/util/nest.py?line=914'>915</a>\u001b[0m     expand_composites\u001b[39m=\u001b[39mexpand_composites)\n",
      "File \u001b[1;32mD:\\Anaconda_2\\envs\\tf2.4\\lib\\site-packages\\keras\\utils\\tf_utils.py:557\u001b[0m, in \u001b[0;36msync_to_numpy_or_python_type.<locals>._to_single_numpy_or_python_type\u001b[1;34m(t)\u001b[0m\n\u001b[0;32m    <a href='file:///d%3A/Anaconda_2/envs/tf2.4/lib/site-packages/keras/utils/tf_utils.py?line=553'>554</a>\u001b[0m \u001b[39mdef\u001b[39;00m \u001b[39m_to_single_numpy_or_python_type\u001b[39m(t):\n\u001b[0;32m    <a href='file:///d%3A/Anaconda_2/envs/tf2.4/lib/site-packages/keras/utils/tf_utils.py?line=554'>555</a>\u001b[0m   \u001b[39m# Don't turn ragged or sparse tensors to NumPy.\u001b[39;00m\n\u001b[0;32m    <a href='file:///d%3A/Anaconda_2/envs/tf2.4/lib/site-packages/keras/utils/tf_utils.py?line=555'>556</a>\u001b[0m   \u001b[39mif\u001b[39;00m \u001b[39misinstance\u001b[39m(t, tf\u001b[39m.\u001b[39mTensor):\n\u001b[1;32m--> <a href='file:///d%3A/Anaconda_2/envs/tf2.4/lib/site-packages/keras/utils/tf_utils.py?line=556'>557</a>\u001b[0m     t \u001b[39m=\u001b[39m t\u001b[39m.\u001b[39;49mnumpy()\n\u001b[0;32m    <a href='file:///d%3A/Anaconda_2/envs/tf2.4/lib/site-packages/keras/utils/tf_utils.py?line=557'>558</a>\u001b[0m   \u001b[39m# Strings, ragged and sparse tensors don't have .item(). Return them as-is.\u001b[39;00m\n\u001b[0;32m    <a href='file:///d%3A/Anaconda_2/envs/tf2.4/lib/site-packages/keras/utils/tf_utils.py?line=558'>559</a>\u001b[0m   \u001b[39mif\u001b[39;00m \u001b[39mnot\u001b[39;00m \u001b[39misinstance\u001b[39m(t, (np\u001b[39m.\u001b[39mndarray, np\u001b[39m.\u001b[39mgeneric)):\n",
      "File \u001b[1;32mD:\\Anaconda_2\\envs\\tf2.4\\lib\\site-packages\\tensorflow\\python\\framework\\ops.py:1223\u001b[0m, in \u001b[0;36m_EagerTensorBase.numpy\u001b[1;34m(self)\u001b[0m\n\u001b[0;32m   <a href='file:///d%3A/Anaconda_2/envs/tf2.4/lib/site-packages/tensorflow/python/framework/ops.py?line=1199'>1200</a>\u001b[0m \u001b[39m\"\"\"Copy of the contents of this Tensor into a NumPy array or scalar.\u001b[39;00m\n\u001b[0;32m   <a href='file:///d%3A/Anaconda_2/envs/tf2.4/lib/site-packages/tensorflow/python/framework/ops.py?line=1200'>1201</a>\u001b[0m \n\u001b[0;32m   <a href='file:///d%3A/Anaconda_2/envs/tf2.4/lib/site-packages/tensorflow/python/framework/ops.py?line=1201'>1202</a>\u001b[0m \u001b[39mUnlike NumPy arrays, Tensors are immutable, so this method has to copy\u001b[39;00m\n\u001b[1;32m   (...)\u001b[0m\n\u001b[0;32m   <a href='file:///d%3A/Anaconda_2/envs/tf2.4/lib/site-packages/tensorflow/python/framework/ops.py?line=1219'>1220</a>\u001b[0m \u001b[39m    NumPy dtype.\u001b[39;00m\n\u001b[0;32m   <a href='file:///d%3A/Anaconda_2/envs/tf2.4/lib/site-packages/tensorflow/python/framework/ops.py?line=1220'>1221</a>\u001b[0m \u001b[39m\"\"\"\u001b[39;00m\n\u001b[0;32m   <a href='file:///d%3A/Anaconda_2/envs/tf2.4/lib/site-packages/tensorflow/python/framework/ops.py?line=1221'>1222</a>\u001b[0m \u001b[39m# TODO(slebedev): Consider avoiding a copy for non-CPU or remote tensors.\u001b[39;00m\n\u001b[1;32m-> <a href='file:///d%3A/Anaconda_2/envs/tf2.4/lib/site-packages/tensorflow/python/framework/ops.py?line=1222'>1223</a>\u001b[0m maybe_arr \u001b[39m=\u001b[39m \u001b[39mself\u001b[39;49m\u001b[39m.\u001b[39;49m_numpy()  \u001b[39m# pylint: disable=protected-access\u001b[39;00m\n\u001b[0;32m   <a href='file:///d%3A/Anaconda_2/envs/tf2.4/lib/site-packages/tensorflow/python/framework/ops.py?line=1223'>1224</a>\u001b[0m \u001b[39mreturn\u001b[39;00m maybe_arr\u001b[39m.\u001b[39mcopy() \u001b[39mif\u001b[39;00m \u001b[39misinstance\u001b[39m(maybe_arr, np\u001b[39m.\u001b[39mndarray) \u001b[39melse\u001b[39;00m maybe_arr\n",
      "File \u001b[1;32mD:\\Anaconda_2\\envs\\tf2.4\\lib\\site-packages\\tensorflow\\python\\framework\\ops.py:1189\u001b[0m, in \u001b[0;36m_EagerTensorBase._numpy\u001b[1;34m(self)\u001b[0m\n\u001b[0;32m   <a href='file:///d%3A/Anaconda_2/envs/tf2.4/lib/site-packages/tensorflow/python/framework/ops.py?line=1186'>1187</a>\u001b[0m \u001b[39mdef\u001b[39;00m \u001b[39m_numpy\u001b[39m(\u001b[39mself\u001b[39m):\n\u001b[0;32m   <a href='file:///d%3A/Anaconda_2/envs/tf2.4/lib/site-packages/tensorflow/python/framework/ops.py?line=1187'>1188</a>\u001b[0m   \u001b[39mtry\u001b[39;00m:\n\u001b[1;32m-> <a href='file:///d%3A/Anaconda_2/envs/tf2.4/lib/site-packages/tensorflow/python/framework/ops.py?line=1188'>1189</a>\u001b[0m     \u001b[39mreturn\u001b[39;00m \u001b[39mself\u001b[39;49m\u001b[39m.\u001b[39;49m_numpy_internal()\n\u001b[0;32m   <a href='file:///d%3A/Anaconda_2/envs/tf2.4/lib/site-packages/tensorflow/python/framework/ops.py?line=1189'>1190</a>\u001b[0m   \u001b[39mexcept\u001b[39;00m core\u001b[39m.\u001b[39m_NotOkStatusException \u001b[39mas\u001b[39;00m e:  \u001b[39m# pylint: disable=protected-access\u001b[39;00m\n\u001b[0;32m   <a href='file:///d%3A/Anaconda_2/envs/tf2.4/lib/site-packages/tensorflow/python/framework/ops.py?line=1190'>1191</a>\u001b[0m     \u001b[39mraise\u001b[39;00m core\u001b[39m.\u001b[39m_status_to_exception(e) \u001b[39mfrom\u001b[39;00m \u001b[39mNone\u001b[39m\n",
      "\u001b[1;31mKeyboardInterrupt\u001b[0m: "
     ]
    }
   ],
   "source": [
    "\n",
    "\n",
    "'''Variant 4 - bigger kernel, less filters'''\n",
    "\n",
    "variant_4 = keras.models.Sequential()\n",
    "variant_4.add(DefaultConv2D(filters=8, kernel_size=6, input_shape=input_shape))\n",
    "variant_4.add(keras.layers.AveragePooling2D(pool_size=2))\n",
    "variant_4.add(DefaultConv2D(filters=16))\n",
    "variant_4.add(keras.layers.AveragePooling2D(pool_size=2))\n",
    "variant_4.add(keras.layers.Flatten())\n",
    "variant_4.add(keras.layers.Dense(300, activation=\"relu\"))\n",
    "variant_4.add(keras.layers.Dense(100, activation=\"relu\"))\n",
    "variant_4.add(keras.layers.Dense(10, activation=\"softmax\"))\n",
    "\n",
    "optimizer = keras.optimizers.Adam(learning_rate)\n",
    "\n",
    "variant_4.compile(optimizer=optimizer, loss=tf.keras.losses.SparseCategoricalCrossentropy(from_logits=True), metrics=['accuracy'])\n",
    "\n",
    "history = variant_4.fit(X_train, y_train, epochs=10, batch_size=32, validation_data=(X_valid, y_valid))\n",
    "\n",
    "plot_history(history, 'Variant 4 - bigger kernel, less filters')\n",
    "\n",
    "test_loss, test_acc = variant_4.evaluate(test_images, test_labels, verbose=2)\n",
    "\n",
    "print('\\nvariant_4 accuracy, loss:', test_acc, test_loss)\n",
    "\n",
    "pred = variant_4.predict(test_images)\n",
    "\n",
    "pred_arr = [np.argmax(i) for i in pred]\n",
    "\n",
    "print_metrics(\"variant_4 model\", test_labels, pred_arr)\n",
    "\n",
    "#keras.utils.plot_model(baseline, show_shapes=True, show_layer_activations=True)\n",
    "#keras.utils.plot_model(variant_1, show_shapes=True, show_layer_activations=True)\n",
    "# keras.utils.plot_model(variant_2, show_shapes=True, show_layer_activations=True)\n",
    "# keras.utils.plot_model(variant_3, show_shapes=True, show_layer_activations=True)\n",
    "#keras.utils.plot_model(variant_4, show_shapes=True, show_layer_activations=True)"
   ]
  },
  {
   "cell_type": "code",
   "execution_count": null,
   "metadata": {},
   "outputs": [],
   "source": []
  },
  {
   "cell_type": "code",
   "execution_count": null,
   "metadata": {},
   "outputs": [],
   "source": []
  },
  {
   "cell_type": "code",
   "execution_count": null,
   "metadata": {},
   "outputs": [],
   "source": []
  },
  {
   "cell_type": "code",
   "execution_count": null,
   "metadata": {},
   "outputs": [],
   "source": []
  },
  {
   "cell_type": "code",
   "execution_count": null,
   "metadata": {},
   "outputs": [],
   "source": []
  },
  {
   "cell_type": "code",
   "execution_count": null,
   "metadata": {},
   "outputs": [],
   "source": []
  }
 ],
 "metadata": {
  "interpreter": {
   "hash": "b26b377b6521054fae3a74a2f14cb9ee384f6c6757db04c797c5f4188bc4f62d"
  },
  "kernelspec": {
   "display_name": "Python 3.8.0 ('tf2.4')",
   "language": "python",
   "name": "python3"
  },
  "language_info": {
   "codemirror_mode": {
    "name": "ipython",
    "version": 3
   },
   "file_extension": ".py",
   "mimetype": "text/x-python",
   "name": "python",
   "nbconvert_exporter": "python",
   "pygments_lexer": "ipython3",
   "version": "3.8.0"
  },
  "orig_nbformat": 4
 },
 "nbformat": 4,
 "nbformat_minor": 2
}
